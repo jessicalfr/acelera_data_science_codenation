{
 "cells": [
  {
   "cell_type": "markdown",
   "metadata": {},
   "source": [
    "## Desafio 8 - Previsão das notas de matemática do Enem 2016"
   ]
  },
  {
   "cell_type": "markdown",
   "metadata": {},
   "source": [
    "*Jéssica Ramos*"
   ]
  },
  {
   "cell_type": "code",
   "execution_count": 1,
   "metadata": {},
   "outputs": [],
   "source": [
    "# importa as bibliotecas necessárias\n",
    "import numpy as np\n",
    "import pandas as pd\n",
    "import matplotlib.pyplot as plt\n",
    "import seaborn as sns\n",
    "from sklearn.impute import SimpleImputer\n",
    "from sklearn.linear_model import LinearRegression, Ridge, Lasso\n",
    "from sklearn.metrics import mean_squared_error, median_absolute_error, r2_score\n",
    "from sklearn.ensemble import GradientBoostingRegressor"
   ]
  },
  {
   "cell_type": "markdown",
   "metadata": {},
   "source": [
    "### Base de dados"
   ]
  },
  {
   "cell_type": "markdown",
   "metadata": {},
   "source": [
    "Primeiro vou ler as bases de treino e teste e conhecer suas características."
   ]
  },
  {
   "cell_type": "code",
   "execution_count": 2,
   "metadata": {},
   "outputs": [
    {
     "data": {
      "text/plain": [
       "(13730, 167)"
      ]
     },
     "execution_count": 2,
     "metadata": {},
     "output_type": "execute_result"
    }
   ],
   "source": [
    "# treino\n",
    "treino = pd.read_csv('train.csv')\n",
    "treino.shape"
   ]
  },
  {
   "cell_type": "code",
   "execution_count": 3,
   "metadata": {},
   "outputs": [
    {
     "data": {
      "text/plain": [
       "(4576, 47)"
      ]
     },
     "execution_count": 3,
     "metadata": {},
     "output_type": "execute_result"
    }
   ],
   "source": [
    "# teste\n",
    "teste = pd.read_csv('test.csv')\n",
    "teste.shape"
   ]
  },
  {
   "cell_type": "markdown",
   "metadata": {},
   "source": [
    "A base de treino contém 13.730 observações (75%) e a base de teste 4.576 observações (25%), totalizando 18.306."
   ]
  },
  {
   "cell_type": "markdown",
   "metadata": {},
   "source": [
    "A primeira coisa que vamos verificar se há dados ausentes na coluna do *target*."
   ]
  },
  {
   "cell_type": "code",
   "execution_count": 4,
   "metadata": {},
   "outputs": [
    {
     "data": {
      "text/plain": [
       "3597"
      ]
     },
     "execution_count": 4,
     "metadata": {},
     "output_type": "execute_result"
    }
   ],
   "source": [
    "# quantidade de NaN\n",
    "treino['NU_NOTA_MT'].isna().sum()"
   ]
  },
  {
   "cell_type": "markdown",
   "metadata": {},
   "source": [
    "Essas linhas serão removidas da base de treino final."
   ]
  },
  {
   "cell_type": "code",
   "execution_count": 5,
   "metadata": {},
   "outputs": [
    {
     "data": {
      "text/plain": [
       "(10133, 167)"
      ]
     },
     "execution_count": 5,
     "metadata": {},
     "output_type": "execute_result"
    }
   ],
   "source": [
    "# remove linhas com NaN no target\n",
    "treino = treino[treino['NU_NOTA_MT'].notna()]\n",
    "treino.shape"
   ]
  },
  {
   "cell_type": "markdown",
   "metadata": {},
   "source": [
    "Também é importante destacar que, apesar da base de treino ter 167 colunas, a base de teste tem apenas 47. Vou verificar primeiro as colunas em comum em ambas as bases."
   ]
  },
  {
   "cell_type": "code",
   "execution_count": 6,
   "metadata": {},
   "outputs": [
    {
     "data": {
      "text/plain": [
       "47"
      ]
     },
     "execution_count": 6,
     "metadata": {},
     "output_type": "execute_result"
    }
   ],
   "source": [
    "# olha quantas colunas têm em comum\n",
    "colunas_treino = treino.columns\n",
    "colunas_teste = teste.columns\n",
    "\n",
    "colunas_comum = list(set(colunas_teste).intersection(colunas_treino))\n",
    "len(colunas_comum)"
   ]
  },
  {
   "cell_type": "markdown",
   "metadata": {},
   "source": [
    "Acima podemos ver que todas as colunas no banco de teste também se encontram no banco de treino. Dentre estas, vamos separar as que podemos considerar como *features* do modelo."
   ]
  },
  {
   "cell_type": "code",
   "execution_count": 7,
   "metadata": {},
   "outputs": [
    {
     "data": {
      "text/plain": [
       "['CO_PROVA_CH',\n",
       " 'CO_PROVA_CN',\n",
       " 'CO_PROVA_LC',\n",
       " 'CO_PROVA_MT',\n",
       " 'CO_UF_RESIDENCIA',\n",
       " 'IN_BAIXA_VISAO',\n",
       " 'IN_CEGUEIRA',\n",
       " 'IN_DISCALCULIA',\n",
       " 'IN_DISLEXIA',\n",
       " 'IN_GESTANTE',\n",
       " 'IN_IDOSO',\n",
       " 'IN_SABATISTA',\n",
       " 'IN_SURDEZ',\n",
       " 'IN_TREINEIRO',\n",
       " 'NU_IDADE',\n",
       " 'NU_INSCRICAO',\n",
       " 'NU_NOTA_CH',\n",
       " 'NU_NOTA_CN',\n",
       " 'NU_NOTA_COMP1',\n",
       " 'NU_NOTA_COMP2',\n",
       " 'NU_NOTA_COMP3',\n",
       " 'NU_NOTA_COMP4',\n",
       " 'NU_NOTA_COMP5',\n",
       " 'NU_NOTA_LC',\n",
       " 'NU_NOTA_REDACAO',\n",
       " 'Q001',\n",
       " 'Q002',\n",
       " 'Q006',\n",
       " 'Q024',\n",
       " 'Q025',\n",
       " 'Q026',\n",
       " 'Q027',\n",
       " 'Q047',\n",
       " 'SG_UF_RESIDENCIA',\n",
       " 'TP_ANO_CONCLUIU',\n",
       " 'TP_COR_RACA',\n",
       " 'TP_DEPENDENCIA_ADM_ESC',\n",
       " 'TP_ENSINO',\n",
       " 'TP_ESCOLA',\n",
       " 'TP_LINGUA',\n",
       " 'TP_NACIONALIDADE',\n",
       " 'TP_PRESENCA_CH',\n",
       " 'TP_PRESENCA_CN',\n",
       " 'TP_PRESENCA_LC',\n",
       " 'TP_SEXO',\n",
       " 'TP_STATUS_REDACAO',\n",
       " 'TP_ST_CONCLUSAO']"
      ]
     },
     "execution_count": 7,
     "metadata": {},
     "output_type": "execute_result"
    }
   ],
   "source": [
    "# lista de possíveis features\n",
    "colunas_comum.sort()\n",
    "colunas_comum"
   ]
  },
  {
   "cell_type": "markdown",
   "metadata": {},
   "source": [
    "Consultando o dicionário dos dados vi que as variáveis `CO_PROVA_CH`, `CO_PROVA_CN`, `CO_PROVA_LC` e `CO_PROVA_MT` são identificações de qual tipo de prova o aluno realizou. Portanto, não serão utilizadas como *features*.\n",
    "\n",
    "Além dessas, a variável `NU_INSCRICAO` também será removida por se tratar do número de inscrição do aluno."
   ]
  },
  {
   "cell_type": "code",
   "execution_count": 8,
   "metadata": {},
   "outputs": [
    {
     "data": {
      "text/plain": [
       "42"
      ]
     },
     "execution_count": 8,
     "metadata": {},
     "output_type": "execute_result"
    }
   ],
   "source": [
    "# features\n",
    "features = colunas_comum.copy()\n",
    "features.remove('CO_PROVA_CH')\n",
    "features.remove('CO_PROVA_CN')\n",
    "features.remove('CO_PROVA_LC')\n",
    "features.remove('CO_PROVA_MT')\n",
    "features.remove('NU_INSCRICAO')\n",
    "\n",
    "len(features)"
   ]
  },
  {
   "cell_type": "markdown",
   "metadata": {},
   "source": [
    "Também serão removidas as variáveis que são indicativos de pedidos de atendimento especializado."
   ]
  },
  {
   "cell_type": "code",
   "execution_count": 9,
   "metadata": {},
   "outputs": [
    {
     "data": {
      "text/plain": [
       "33"
      ]
     },
     "execution_count": 9,
     "metadata": {},
     "output_type": "execute_result"
    }
   ],
   "source": [
    "features.remove('IN_BAIXA_VISAO')\n",
    "features.remove('IN_CEGUEIRA')\n",
    "features.remove('IN_DISCALCULIA')\n",
    "features.remove('IN_DISLEXIA')\n",
    "features.remove('IN_GESTANTE')\n",
    "features.remove('IN_IDOSO')\n",
    "features.remove('IN_SABATISTA')\n",
    "features.remove('IN_SURDEZ')\n",
    "features.remove('IN_TREINEIRO')\n",
    "\n",
    "len(features)"
   ]
  },
  {
   "cell_type": "markdown",
   "metadata": {},
   "source": [
    "Agora é necessário verificar se existem dados ausentes nas *features*."
   ]
  },
  {
   "cell_type": "code",
   "execution_count": 10,
   "metadata": {},
   "outputs": [
    {
     "name": "stdout",
     "output_type": "stream",
     "text": [
      "<class 'pandas.core.frame.DataFrame'>\n",
      "Int64Index: 10133 entries, 0 to 13729\n",
      "Data columns (total 33 columns):\n",
      " #   Column                  Non-Null Count  Dtype  \n",
      "---  ------                  --------------  -----  \n",
      " 0   CO_UF_RESIDENCIA        10133 non-null  int64  \n",
      " 1   NU_IDADE                10133 non-null  int64  \n",
      " 2   NU_NOTA_CH              10097 non-null  float64\n",
      " 3   NU_NOTA_CN              10097 non-null  float64\n",
      " 4   NU_NOTA_COMP1           10133 non-null  float64\n",
      " 5   NU_NOTA_COMP2           10133 non-null  float64\n",
      " 6   NU_NOTA_COMP3           10133 non-null  float64\n",
      " 7   NU_NOTA_COMP4           10133 non-null  float64\n",
      " 8   NU_NOTA_COMP5           10133 non-null  float64\n",
      " 9   NU_NOTA_LC              10133 non-null  float64\n",
      " 10  NU_NOTA_REDACAO         10133 non-null  float64\n",
      " 11  Q001                    10133 non-null  object \n",
      " 12  Q002                    10133 non-null  object \n",
      " 13  Q006                    10133 non-null  object \n",
      " 14  Q024                    10133 non-null  object \n",
      " 15  Q025                    10133 non-null  object \n",
      " 16  Q026                    10133 non-null  object \n",
      " 17  Q027                    4007 non-null   object \n",
      " 18  Q047                    10133 non-null  object \n",
      " 19  SG_UF_RESIDENCIA        10133 non-null  object \n",
      " 20  TP_ANO_CONCLUIU         10133 non-null  int64  \n",
      " 21  TP_COR_RACA             10133 non-null  int64  \n",
      " 22  TP_DEPENDENCIA_ADM_ESC  3639 non-null   float64\n",
      " 23  TP_ENSINO               3639 non-null   float64\n",
      " 24  TP_ESCOLA               10133 non-null  int64  \n",
      " 25  TP_LINGUA               10133 non-null  int64  \n",
      " 26  TP_NACIONALIDADE        10133 non-null  int64  \n",
      " 27  TP_PRESENCA_CH          10133 non-null  int64  \n",
      " 28  TP_PRESENCA_CN          10133 non-null  int64  \n",
      " 29  TP_PRESENCA_LC          10133 non-null  int64  \n",
      " 30  TP_SEXO                 10133 non-null  object \n",
      " 31  TP_STATUS_REDACAO       10133 non-null  float64\n",
      " 32  TP_ST_CONCLUSAO         10133 non-null  int64  \n",
      "dtypes: float64(12), int64(11), object(10)\n",
      "memory usage: 2.6+ MB\n"
     ]
    }
   ],
   "source": [
    "treino[features].info()"
   ]
  },
  {
   "cell_type": "markdown",
   "metadata": {},
   "source": [
    "As variáveis `Q027`, `TP_DEPENDENCIA_ADM_ESC` e `TP_ENSINO` contém mais da metade dos dados ausentes. Portanto, elas serão removidas da base de fatures."
   ]
  },
  {
   "cell_type": "code",
   "execution_count": 11,
   "metadata": {},
   "outputs": [
    {
     "data": {
      "text/plain": [
       "30"
      ]
     },
     "execution_count": 11,
     "metadata": {},
     "output_type": "execute_result"
    }
   ],
   "source": [
    "# remove features com dados ausentes\n",
    "features.remove('Q027')\n",
    "features.remove('TP_DEPENDENCIA_ADM_ESC')\n",
    "features.remove('TP_ENSINO')\n",
    "\n",
    "len(features)"
   ]
  },
  {
   "cell_type": "markdown",
   "metadata": {},
   "source": [
    "Também será removida a coluna `CO_UF_RESIDENCIA` pois contém a mesma informação de `SG_UF_RESIDENCIA`, porém codificada."
   ]
  },
  {
   "cell_type": "code",
   "execution_count": 12,
   "metadata": {},
   "outputs": [
    {
     "data": {
      "text/plain": [
       "29"
      ]
     },
     "execution_count": 12,
     "metadata": {},
     "output_type": "execute_result"
    }
   ],
   "source": [
    "# remove feature \"duplicada\"\n",
    "features.remove('CO_UF_RESIDENCIA')\n",
    "\n",
    "len(features)"
   ]
  },
  {
   "cell_type": "markdown",
   "metadata": {},
   "source": [
    "As variáveis `NU_NOTA_CH` e `NU_NOTA_CN` contém alguns dados ausentes. Como são dados de notas, é razoável assumir que, nesses casos, o candidato não realizou a prova. Portanto a sota será substituída por 0."
   ]
  },
  {
   "cell_type": "code",
   "execution_count": 13,
   "metadata": {},
   "outputs": [
    {
     "data": {
      "text/plain": [
       "36"
      ]
     },
     "execution_count": 13,
     "metadata": {},
     "output_type": "execute_result"
    }
   ],
   "source": [
    "# número de NaN em NU_NOTA_CH\n",
    "treino['NU_NOTA_CH'].isna().sum()"
   ]
  },
  {
   "cell_type": "code",
   "execution_count": 14,
   "metadata": {},
   "outputs": [],
   "source": [
    "# substitui os NaN por 0\n",
    "treino['NU_NOTA_CH'].fillna(0, inplace = True)"
   ]
  },
  {
   "cell_type": "code",
   "execution_count": 15,
   "metadata": {},
   "outputs": [
    {
     "data": {
      "text/plain": [
       "36"
      ]
     },
     "execution_count": 15,
     "metadata": {},
     "output_type": "execute_result"
    }
   ],
   "source": [
    "# número de NaN em  NU_NOTA_CN\n",
    "treino['NU_NOTA_CN'].isna().sum()"
   ]
  },
  {
   "cell_type": "code",
   "execution_count": 16,
   "metadata": {},
   "outputs": [],
   "source": [
    "# substitui os NaN por 0\n",
    "treino['NU_NOTA_CN'].fillna(0, inplace = True)"
   ]
  },
  {
   "cell_type": "markdown",
   "metadata": {},
   "source": [
    "É necessário verificar também as colunas com dados ausentes na base de teste."
   ]
  },
  {
   "cell_type": "code",
   "execution_count": 17,
   "metadata": {},
   "outputs": [
    {
     "name": "stdout",
     "output_type": "stream",
     "text": [
      "<class 'pandas.core.frame.DataFrame'>\n",
      "RangeIndex: 4576 entries, 0 to 4575\n",
      "Data columns (total 29 columns):\n",
      " #   Column             Non-Null Count  Dtype  \n",
      "---  ------             --------------  -----  \n",
      " 0   NU_IDADE           4576 non-null   int64  \n",
      " 1   NU_NOTA_CH         3442 non-null   float64\n",
      " 2   NU_NOTA_CN         3442 non-null   float64\n",
      " 3   NU_NOTA_COMP1      3377 non-null   float64\n",
      " 4   NU_NOTA_COMP2      3377 non-null   float64\n",
      " 5   NU_NOTA_COMP3      3377 non-null   float64\n",
      " 6   NU_NOTA_COMP4      3377 non-null   float64\n",
      " 7   NU_NOTA_COMP5      3377 non-null   float64\n",
      " 8   NU_NOTA_LC         3377 non-null   float64\n",
      " 9   NU_NOTA_REDACAO    3377 non-null   float64\n",
      " 10  Q001               4576 non-null   object \n",
      " 11  Q002               4576 non-null   object \n",
      " 12  Q006               4576 non-null   object \n",
      " 13  Q024               4576 non-null   object \n",
      " 14  Q025               4576 non-null   object \n",
      " 15  Q026               4576 non-null   object \n",
      " 16  Q047               4576 non-null   object \n",
      " 17  SG_UF_RESIDENCIA   4576 non-null   object \n",
      " 18  TP_ANO_CONCLUIU    4576 non-null   int64  \n",
      " 19  TP_COR_RACA        4576 non-null   int64  \n",
      " 20  TP_ESCOLA          4576 non-null   int64  \n",
      " 21  TP_LINGUA          4576 non-null   int64  \n",
      " 22  TP_NACIONALIDADE   4576 non-null   int64  \n",
      " 23  TP_PRESENCA_CH     4576 non-null   int64  \n",
      " 24  TP_PRESENCA_CN     4576 non-null   int64  \n",
      " 25  TP_PRESENCA_LC     4576 non-null   int64  \n",
      " 26  TP_SEXO            4576 non-null   object \n",
      " 27  TP_STATUS_REDACAO  3377 non-null   float64\n",
      " 28  TP_ST_CONCLUSAO    4576 non-null   int64  \n",
      "dtypes: float64(10), int64(10), object(9)\n",
      "memory usage: 1.0+ MB\n"
     ]
    }
   ],
   "source": [
    "teste[features].info()"
   ]
  },
  {
   "cell_type": "markdown",
   "metadata": {},
   "source": [
    "As variáveis `NU_NOTA_CH`, `NU_NOTA_CN`, `NU_NOTA_COMP1`, `NU_NOTA_COMP2`, `NU_NOTA_COMP3`, `NU_NOTA_COMP4`, `NU_NOTA_COMP5`, `NU_NOTA_LC` e `NU_NOTA_REDACAO` também são notas e também serão imputadas com o valor 0."
   ]
  },
  {
   "cell_type": "code",
   "execution_count": 18,
   "metadata": {},
   "outputs": [],
   "source": [
    "# subtitui NaN por 0\n",
    "teste['NU_NOTA_CH'].fillna(0, inplace = True)"
   ]
  },
  {
   "cell_type": "code",
   "execution_count": 19,
   "metadata": {},
   "outputs": [],
   "source": [
    "# substitui NaN por 0\n",
    "teste['NU_NOTA_CN'].fillna(0, inplace = True)"
   ]
  },
  {
   "cell_type": "markdown",
   "metadata": {},
   "source": [
    "As variáveis `NU_NOTA_COMP1`, `NU_NOTA_COMP2`, `NU_NOTA_COMP3`, `NU_NOTA_COMP4`, `NU_NOTA_COMP5`, `NU_NOTA_LC` e `NU_NOTA_REDACAO` também receberão a imputação da média observada na base de treino."
   ]
  },
  {
   "cell_type": "code",
   "execution_count": 20,
   "metadata": {},
   "outputs": [],
   "source": [
    "# substitui NaN por 0\n",
    "teste['NU_NOTA_COMP1'].fillna(0, inplace = True)"
   ]
  },
  {
   "cell_type": "code",
   "execution_count": 21,
   "metadata": {},
   "outputs": [],
   "source": [
    "# substitui NaN por 0\n",
    "teste['NU_NOTA_COMP2'].fillna(0, inplace = True)"
   ]
  },
  {
   "cell_type": "code",
   "execution_count": 22,
   "metadata": {},
   "outputs": [],
   "source": [
    "# substitui NaN por 0\n",
    "teste['NU_NOTA_COMP3'].fillna(0, inplace = True)"
   ]
  },
  {
   "cell_type": "code",
   "execution_count": 23,
   "metadata": {},
   "outputs": [],
   "source": [
    "# substitui NaN por 0\n",
    "teste['NU_NOTA_COMP4'].fillna(0, inplace = True)"
   ]
  },
  {
   "cell_type": "code",
   "execution_count": 24,
   "metadata": {},
   "outputs": [],
   "source": [
    "# substitui NaN por 0\n",
    "teste['NU_NOTA_COMP5'].fillna(0, inplace = True)"
   ]
  },
  {
   "cell_type": "code",
   "execution_count": 25,
   "metadata": {},
   "outputs": [],
   "source": [
    "# substitui NaN por 0\n",
    "teste['NU_NOTA_LC'].fillna(0, inplace = True)"
   ]
  },
  {
   "cell_type": "code",
   "execution_count": 26,
   "metadata": {},
   "outputs": [],
   "source": [
    "# substitui NaN por 0\n",
    "teste['NU_NOTA_REDACAO'].fillna(0, inplace = True)"
   ]
  },
  {
   "cell_type": "markdown",
   "metadata": {},
   "source": [
    "A variável `TP_STATUS_REDACAO` também contém dados ausentes e a decisão foi de removê-la. Como esse dado só está ausente na base de teste, não seria possível criar uma categoria extra indicando que o dado está ausente, que seria a estratégia utilizada para tratar os dados ausentes."
   ]
  },
  {
   "cell_type": "code",
   "execution_count": 27,
   "metadata": {},
   "outputs": [
    {
     "data": {
      "text/plain": [
       "28"
      ]
     },
     "execution_count": 27,
     "metadata": {},
     "output_type": "execute_result"
    }
   ],
   "source": [
    "features.remove('TP_STATUS_REDACAO')\n",
    "\n",
    "len(features)"
   ]
  },
  {
   "cell_type": "markdown",
   "metadata": {},
   "source": [
    "Também serão removidas as variáveis que indicam a presença do candidato nas demais provas. Essa informação já está, de certa forma, contida na nota final do candidato."
   ]
  },
  {
   "cell_type": "code",
   "execution_count": 28,
   "metadata": {},
   "outputs": [
    {
     "data": {
      "text/plain": [
       "25"
      ]
     },
     "execution_count": 28,
     "metadata": {},
     "output_type": "execute_result"
    }
   ],
   "source": [
    "features.remove('TP_PRESENCA_CH')\n",
    "features.remove('TP_PRESENCA_CN')\n",
    "features.remove('TP_PRESENCA_LC')\n",
    "\n",
    "len(features)"
   ]
  },
  {
   "cell_type": "markdown",
   "metadata": {},
   "source": [
    "Após esses ajustes, restaram 25 variáveis completas para serem incluídas no modelo."
   ]
  },
  {
   "cell_type": "code",
   "execution_count": 29,
   "metadata": {},
   "outputs": [
    {
     "data": {
      "text/plain": [
       "NU_IDADE              int64\n",
       "NU_NOTA_CH          float64\n",
       "NU_NOTA_CN          float64\n",
       "NU_NOTA_COMP1       float64\n",
       "NU_NOTA_COMP2       float64\n",
       "NU_NOTA_COMP3       float64\n",
       "NU_NOTA_COMP4       float64\n",
       "NU_NOTA_COMP5       float64\n",
       "NU_NOTA_LC          float64\n",
       "NU_NOTA_REDACAO     float64\n",
       "Q001                 object\n",
       "Q002                 object\n",
       "Q006                 object\n",
       "Q024                 object\n",
       "Q025                 object\n",
       "Q026                 object\n",
       "Q047                 object\n",
       "SG_UF_RESIDENCIA     object\n",
       "TP_ANO_CONCLUIU       int64\n",
       "TP_COR_RACA           int64\n",
       "TP_ESCOLA             int64\n",
       "TP_LINGUA             int64\n",
       "TP_NACIONALIDADE      int64\n",
       "TP_SEXO              object\n",
       "TP_ST_CONCLUSAO       int64\n",
       "dtype: object"
      ]
     },
     "execution_count": 29,
     "metadata": {},
     "output_type": "execute_result"
    }
   ],
   "source": [
    "# tipo dos dados das features\n",
    "treino[features].dtypes"
   ]
  },
  {
   "cell_type": "markdown",
   "metadata": {},
   "source": [
    "As variáveis `TP_ANO_CONCLUIU`, `TP_COR_RACA`, `TP_NACIONALIDADE` e `TP_ST_CONCLUSAO` são, na verdade, variáveis categóricas que estão codificadas como números inteiros. Dessa forma, é necessário transformar o tipo da coluna para `object`."
   ]
  },
  {
   "cell_type": "code",
   "execution_count": 30,
   "metadata": {},
   "outputs": [],
   "source": [
    "# transforma o tipo das colunas\n",
    "treino['TP_ANO_CONCLUIU'] = treino['TP_ANO_CONCLUIU'].astype('category')\n",
    "teste['TP_ANO_CONCLUIU'] = teste['TP_ANO_CONCLUIU'].astype('category')\n",
    "\n",
    "treino['TP_COR_RACA'] = treino['TP_COR_RACA'].astype('category')\n",
    "teste['TP_COR_RACA'] = teste['TP_COR_RACA'].astype('category')\n",
    "\n",
    "treino['TP_ESCOLA'] = treino['TP_ESCOLA'].astype('category')\n",
    "teste['TP_ESCOLA'] = teste['TP_ESCOLA'].astype('category')\n",
    "\n",
    "treino['TP_NACIONALIDADE'] = treino['TP_NACIONALIDADE'].astype('category')\n",
    "teste['TP_NACIONALIDADE'] = teste['TP_NACIONALIDADE'].astype('category')\n",
    "\n",
    "treino['TP_ST_CONCLUSAO'] = treino['TP_ST_CONCLUSAO'].astype('category')\n",
    "teste['TP_ST_CONCLUSAO'] = teste['TP_ST_CONCLUSAO'].astype('category')"
   ]
  },
  {
   "cell_type": "markdown",
   "metadata": {},
   "source": [
    "Antes de iniciar o ajuste do modelo, é preciso separar as bases, fazer *one-hot encoding* nos dados categóricos e aplicar o *standard scaler* nos dados numéricos."
   ]
  },
  {
   "cell_type": "code",
   "execution_count": 31,
   "metadata": {},
   "outputs": [],
   "source": [
    "# separa o target e as features de treino\n",
    "x_treino = pd.get_dummies(treino[features])\n",
    "y_treino = treino['NU_NOTA_MT']\n",
    "\n",
    "# separa as features de teste e o número de inscrição\n",
    "x_teste = pd.get_dummies(teste[features])\n",
    "inscricao_teste = teste['NU_INSCRICAO']"
   ]
  },
  {
   "cell_type": "code",
   "execution_count": 32,
   "metadata": {},
   "outputs": [
    {
     "data": {
      "text/plain": [
       "(10133, 118)"
      ]
     },
     "execution_count": 32,
     "metadata": {},
     "output_type": "execute_result"
    }
   ],
   "source": [
    "# formato da base de treino após one-hot encoding\n",
    "x_treino.shape"
   ]
  },
  {
   "cell_type": "code",
   "execution_count": 33,
   "metadata": {},
   "outputs": [
    {
     "data": {
      "text/plain": [
       "(4576, 117)"
      ]
     },
     "execution_count": 33,
     "metadata": {},
     "output_type": "execute_result"
    }
   ],
   "source": [
    "# formato da base de teste após one-hot encoding\n",
    "x_teste.shape"
   ]
  },
  {
   "cell_type": "markdown",
   "metadata": {},
   "source": [
    "Os dados de teste têm uma variável a menos, pois a categoria '4' não aparece para a variável `TP_ESCOLA`. Portanto, essa coluna será adicionada manualmente."
   ]
  },
  {
   "cell_type": "code",
   "execution_count": 34,
   "metadata": {},
   "outputs": [
    {
     "data": {
      "text/plain": [
       "Index(['TP_ESCOLA_4'], dtype='object')"
      ]
     },
     "execution_count": 34,
     "metadata": {},
     "output_type": "execute_result"
    }
   ],
   "source": [
    "# diferenças entre as bases de treino e teste\n",
    "x_treino.columns.difference(x_teste.columns)"
   ]
  },
  {
   "cell_type": "code",
   "execution_count": 35,
   "metadata": {},
   "outputs": [],
   "source": [
    "# cria a coluna que falta\n",
    "x_teste['TP_ESCOLA_4'] = 0"
   ]
  },
  {
   "cell_type": "code",
   "execution_count": 36,
   "metadata": {},
   "outputs": [
    {
     "data": {
      "text/plain": [
       "(4576, 118)"
      ]
     },
     "execution_count": 36,
     "metadata": {},
     "output_type": "execute_result"
    }
   ],
   "source": [
    "x_teste.shape"
   ]
  },
  {
   "cell_type": "markdown",
   "metadata": {},
   "source": [
    "### Modelo Linear"
   ]
  },
  {
   "cell_type": "markdown",
   "metadata": {},
   "source": [
    "Para ajustar o modelo linear, vou utilizar todas as features que foram separadas nos passos anteriores."
   ]
  },
  {
   "cell_type": "code",
   "execution_count": 37,
   "metadata": {},
   "outputs": [
    {
     "data": {
      "text/plain": [
       "LinearRegression(copy_X=True, fit_intercept=True, n_jobs=None, normalize=False)"
      ]
     },
     "execution_count": 37,
     "metadata": {},
     "output_type": "execute_result"
    }
   ],
   "source": [
    "# ajuste do modelo\n",
    "regressao_linear = LinearRegression()\n",
    "regressao_linear.fit(x_treino, y_treino)"
   ]
  },
  {
   "cell_type": "code",
   "execution_count": 38,
   "metadata": {},
   "outputs": [
    {
     "data": {
      "text/html": [
       "<div>\n",
       "<style scoped>\n",
       "    .dataframe tbody tr th:only-of-type {\n",
       "        vertical-align: middle;\n",
       "    }\n",
       "\n",
       "    .dataframe tbody tr th {\n",
       "        vertical-align: top;\n",
       "    }\n",
       "\n",
       "    .dataframe thead th {\n",
       "        text-align: right;\n",
       "    }\n",
       "</style>\n",
       "<table border=\"1\" class=\"dataframe\">\n",
       "  <thead>\n",
       "    <tr style=\"text-align: right;\">\n",
       "      <th></th>\n",
       "      <th>NU_INSCRICAO</th>\n",
       "      <th>NU_NOTA_MT</th>\n",
       "    </tr>\n",
       "  </thead>\n",
       "  <tbody>\n",
       "    <tr>\n",
       "      <th>0</th>\n",
       "      <td>73ff9fcc02f0a99919906c942c2e1a1042cdcf98</td>\n",
       "      <td>454.285343</td>\n",
       "    </tr>\n",
       "    <tr>\n",
       "      <th>1</th>\n",
       "      <td>71a95f9f1b91a82c65ad94abbdf9f54e6066f968</td>\n",
       "      <td>477.723459</td>\n",
       "    </tr>\n",
       "    <tr>\n",
       "      <th>2</th>\n",
       "      <td>b38a03232f43b11c9d0788abaf060f7366053b6d</td>\n",
       "      <td>551.027681</td>\n",
       "    </tr>\n",
       "    <tr>\n",
       "      <th>3</th>\n",
       "      <td>70b682d9a3636be23f6120fa9d6b164eb3c6002d</td>\n",
       "      <td>150.066610</td>\n",
       "    </tr>\n",
       "    <tr>\n",
       "      <th>4</th>\n",
       "      <td>715494628a50142ce8cb17191cfe6d0f3cae0934</td>\n",
       "      <td>538.229752</td>\n",
       "    </tr>\n",
       "    <tr>\n",
       "      <th>...</th>\n",
       "      <td>...</td>\n",
       "      <td>...</td>\n",
       "    </tr>\n",
       "    <tr>\n",
       "      <th>4571</th>\n",
       "      <td>dac0f22429c7f8e3931d0abaf5dfc8e5c772a48b</td>\n",
       "      <td>460.868548</td>\n",
       "    </tr>\n",
       "    <tr>\n",
       "      <th>4572</th>\n",
       "      <td>a75fa8770257e7c9368d059fe53d9ef431f4bdef</td>\n",
       "      <td>431.958321</td>\n",
       "    </tr>\n",
       "    <tr>\n",
       "      <th>4573</th>\n",
       "      <td>655fa6306720ff16e825903b5422a46608a77545</td>\n",
       "      <td>607.097842</td>\n",
       "    </tr>\n",
       "    <tr>\n",
       "      <th>4574</th>\n",
       "      <td>1f4bc3e3d56212d500625bfe8ac78ccff4362293</td>\n",
       "      <td>438.536424</td>\n",
       "    </tr>\n",
       "    <tr>\n",
       "      <th>4575</th>\n",
       "      <td>adf0d15b54317b6564ef56dad2b775bbb0ef50cc</td>\n",
       "      <td>126.364276</td>\n",
       "    </tr>\n",
       "  </tbody>\n",
       "</table>\n",
       "<p>4576 rows × 2 columns</p>\n",
       "</div>"
      ],
      "text/plain": [
       "                                  NU_INSCRICAO  NU_NOTA_MT\n",
       "0     73ff9fcc02f0a99919906c942c2e1a1042cdcf98  454.285343\n",
       "1     71a95f9f1b91a82c65ad94abbdf9f54e6066f968  477.723459\n",
       "2     b38a03232f43b11c9d0788abaf060f7366053b6d  551.027681\n",
       "3     70b682d9a3636be23f6120fa9d6b164eb3c6002d  150.066610\n",
       "4     715494628a50142ce8cb17191cfe6d0f3cae0934  538.229752\n",
       "...                                        ...         ...\n",
       "4571  dac0f22429c7f8e3931d0abaf5dfc8e5c772a48b  460.868548\n",
       "4572  a75fa8770257e7c9368d059fe53d9ef431f4bdef  431.958321\n",
       "4573  655fa6306720ff16e825903b5422a46608a77545  607.097842\n",
       "4574  1f4bc3e3d56212d500625bfe8ac78ccff4362293  438.536424\n",
       "4575  adf0d15b54317b6564ef56dad2b775bbb0ef50cc  126.364276\n",
       "\n",
       "[4576 rows x 2 columns]"
      ]
     },
     "execution_count": 38,
     "metadata": {},
     "output_type": "execute_result"
    }
   ],
   "source": [
    "# predição nos dados de teste\n",
    "pred_regressao_linear = regressao_linear.predict(x_teste)\n",
    "\n",
    "resultado_regressao_linear = pd.DataFrame({'NU_INSCRICAO': inscricao_teste, 'NU_NOTA_MT': pred_regressao_linear})\n",
    "resultado_regressao_linear"
   ]
  },
  {
   "cell_type": "code",
   "execution_count": 39,
   "metadata": {},
   "outputs": [
    {
     "data": {
      "text/plain": [
       "count    4576.000000\n",
       "mean      394.339582\n",
       "std       164.196426\n",
       "min        67.258683\n",
       "25%       289.821040\n",
       "50%       451.202264\n",
       "75%       499.682727\n",
       "max       761.776356\n",
       "Name: NU_NOTA_MT, dtype: float64"
      ]
     },
     "execution_count": 39,
     "metadata": {},
     "output_type": "execute_result"
    }
   ],
   "source": [
    "# descritivas das predições\n",
    "resultado_regressao_linear['NU_NOTA_MT'].describe()"
   ]
  },
  {
   "cell_type": "markdown",
   "metadata": {},
   "source": [
    "O ideal seria ter o resultado dos dados de teste para poder calcular medidas de qualidade do modelo que seriam mais reais. Porém, como a base não possui essa informação, serão calculadas as medidas na base de treino."
   ]
  },
  {
   "cell_type": "code",
   "execution_count": 40,
   "metadata": {},
   "outputs": [
    {
     "data": {
      "text/plain": [
       "0.4327625089858217"
      ]
     },
     "execution_count": 40,
     "metadata": {},
     "output_type": "execute_result"
    }
   ],
   "source": [
    "# predição nos dados de treino\n",
    "pred_treino_regressao_linear = regressao_linear.predict(x_treino)\n",
    "\n",
    "# cálculo do R2\n",
    "r2_score(y_treino, pred_treino_regressao_linear)"
   ]
  },
  {
   "cell_type": "markdown",
   "metadata": {},
   "source": [
    "Pelo resultado do R² é possível concluir que o modelo não explica grande parte da variabilidade."
   ]
  },
  {
   "cell_type": "code",
   "execution_count": 41,
   "metadata": {},
   "outputs": [
    {
     "data": {
      "text/plain": [
       "5652.130988159322"
      ]
     },
     "execution_count": 41,
     "metadata": {},
     "output_type": "execute_result"
    }
   ],
   "source": [
    "# mean squared error\n",
    "mean_squared_error(y_treino, pred_treino_regressao_linear)"
   ]
  },
  {
   "cell_type": "code",
   "execution_count": 42,
   "metadata": {},
   "outputs": [
    {
     "data": {
      "text/plain": [
       "49.62114188222756"
      ]
     },
     "execution_count": 42,
     "metadata": {},
     "output_type": "execute_result"
    }
   ],
   "source": [
    "# mean absolute error\n",
    "median_absolute_error(y_treino, pred_treino_regressao_linear)"
   ]
  },
  {
   "cell_type": "markdown",
   "metadata": {},
   "source": [
    "Pelo resultado no MAE, é possível afirmar que o modelo costuma errar em 49 pontos, sejá para cima ou para baixo."
   ]
  },
  {
   "cell_type": "code",
   "execution_count": 43,
   "metadata": {},
   "outputs": [
    {
     "data": {
      "text/plain": [
       "<matplotlib.axes._subplots.AxesSubplot at 0x209e1113248>"
      ]
     },
     "execution_count": 43,
     "metadata": {},
     "output_type": "execute_result"
    },
    {
     "data": {
      "image/png": "[encoded data removed]",
      "text/plain": [
       "<Figure size 432x288 with 1 Axes>"
      ]
     },
     "metadata": {
      "needs_background": "light"
     },
     "output_type": "display_data"
    }
   ],
   "source": [
    "# distribuição dos resíduos\n",
    "residuos_regressao_linear = y_treino - pred_treino_regressao_linear\n",
    "sns.distplot(residuos_regressao_linear)"
   ]
  },
  {
   "cell_type": "markdown",
   "metadata": {},
   "source": [
    "A distribuição dos resíduos se assemelha à distribuição Normal e está centrado em zero."
   ]
  },
  {
   "cell_type": "code",
   "execution_count": 44,
   "metadata": {},
   "outputs": [
    {
     "data": {
      "text/plain": [
       "<matplotlib.axes._subplots.AxesSubplot at 0x209e25c8048>"
      ]
     },
     "execution_count": 44,
     "metadata": {},
     "output_type": "execute_result"
    },
    {
     "data": {
      "image/png": "[encoded data removed]",
      "text/plain": [
       "<Figure size 432x288 with 1 Axes>"
      ]
     },
     "metadata": {
      "needs_background": "light"
     },
     "output_type": "display_data"
    }
   ],
   "source": [
    "# resíduos versus valor ajustado\n",
    "sns.scatterplot(x=y_treino, y=residuos_regressao_linear)"
   ]
  },
  {
   "cell_type": "markdown",
   "metadata": {},
   "source": [
    "Existe padrão na distribuição dos resíduos versus o valor ajustado. Isso é um indicativo de que um modelo linear não é a melhor escolha para esse problema."
   ]
  },
  {
   "cell_type": "markdown",
   "metadata": {},
   "source": [
    "### *Gradient Boosting Machine*"
   ]
  },
  {
   "cell_type": "markdown",
   "metadata": {},
   "source": [
    "Já que o modelo linear não se ajustou bem aos dados, a próxima tentativa será com um algoritmo mais robusto e que não depende de relações lineares: o *Gradient Boosting Machine*."
   ]
  },
  {
   "cell_type": "code",
   "execution_count": 45,
   "metadata": {},
   "outputs": [
    {
     "data": {
      "text/plain": [
       "GradientBoostingRegressor(alpha=0.9, ccp_alpha=0.0, criterion='friedman_mse',\n",
       "                          init=None, learning_rate=0.1, loss='ls', max_depth=3,\n",
       "                          max_features=None, max_leaf_nodes=None,\n",
       "                          min_impurity_decrease=0.0, min_impurity_split=None,\n",
       "                          min_samples_leaf=1, min_samples_split=2,\n",
       "                          min_weight_fraction_leaf=0.0, n_estimators=100,\n",
       "                          n_iter_no_change=None, presort='deprecated',\n",
       "                          random_state=0, subsample=1.0, tol=0.0001,\n",
       "                          validation_fraction=0.1, verbose=0, warm_start=False)"
      ]
     },
     "execution_count": 45,
     "metadata": {},
     "output_type": "execute_result"
    }
   ],
   "source": [
    "# ajusta o modelo\n",
    "gbm = GradientBoostingRegressor(random_state=0)\n",
    "gbm.fit(x_treino, y_treino)"
   ]
  },
  {
   "cell_type": "code",
   "execution_count": 46,
   "metadata": {},
   "outputs": [
    {
     "data": {
      "text/plain": [
       "0.5224147515273427"
      ]
     },
     "execution_count": 46,
     "metadata": {},
     "output_type": "execute_result"
    }
   ],
   "source": [
    "# predição nos dados de treino\n",
    "pred_treino_gbm = gbm.predict(x_treino)\n",
    "\n",
    "# cálculo do R2\n",
    "r2_score(y_treino, pred_treino_gbm)"
   ]
  },
  {
   "cell_type": "code",
   "execution_count": 47,
   "metadata": {},
   "outputs": [
    {
     "data": {
      "text/plain": [
       "4758.8081273573725"
      ]
     },
     "execution_count": 47,
     "metadata": {},
     "output_type": "execute_result"
    }
   ],
   "source": [
    "# mean squared error\n",
    "mean_squared_error(y_treino, pred_treino_gbm)"
   ]
  },
  {
   "cell_type": "code",
   "execution_count": 48,
   "metadata": {},
   "outputs": [
    {
     "data": {
      "text/plain": [
       "46.02715489333906"
      ]
     },
     "execution_count": 48,
     "metadata": {},
     "output_type": "execute_result"
    }
   ],
   "source": [
    "# mean absolute error\n",
    "median_absolute_error(y_treino, pred_treino_gbm)"
   ]
  },
  {
   "cell_type": "markdown",
   "metadata": {},
   "source": [
    "Ajustando um GBM com os parâmetros *default* já foi possível obter resultados melhores."
   ]
  },
  {
   "cell_type": "code",
   "execution_count": 49,
   "metadata": {},
   "outputs": [
    {
     "data": {
      "text/html": [
       "<div>\n",
       "<style scoped>\n",
       "    .dataframe tbody tr th:only-of-type {\n",
       "        vertical-align: middle;\n",
       "    }\n",
       "\n",
       "    .dataframe tbody tr th {\n",
       "        vertical-align: top;\n",
       "    }\n",
       "\n",
       "    .dataframe thead th {\n",
       "        text-align: right;\n",
       "    }\n",
       "</style>\n",
       "<table border=\"1\" class=\"dataframe\">\n",
       "  <thead>\n",
       "    <tr style=\"text-align: right;\">\n",
       "      <th></th>\n",
       "      <th>NU_INSCRICAO</th>\n",
       "      <th>NU_NOTA_MT</th>\n",
       "    </tr>\n",
       "  </thead>\n",
       "  <tbody>\n",
       "    <tr>\n",
       "      <th>0</th>\n",
       "      <td>73ff9fcc02f0a99919906c942c2e1a1042cdcf98</td>\n",
       "      <td>436.560057</td>\n",
       "    </tr>\n",
       "    <tr>\n",
       "      <th>1</th>\n",
       "      <td>71a95f9f1b91a82c65ad94abbdf9f54e6066f968</td>\n",
       "      <td>472.805043</td>\n",
       "    </tr>\n",
       "    <tr>\n",
       "      <th>2</th>\n",
       "      <td>b38a03232f43b11c9d0788abaf060f7366053b6d</td>\n",
       "      <td>576.738523</td>\n",
       "    </tr>\n",
       "    <tr>\n",
       "      <th>3</th>\n",
       "      <td>70b682d9a3636be23f6120fa9d6b164eb3c6002d</td>\n",
       "      <td>66.133244</td>\n",
       "    </tr>\n",
       "    <tr>\n",
       "      <th>4</th>\n",
       "      <td>715494628a50142ce8cb17191cfe6d0f3cae0934</td>\n",
       "      <td>534.015210</td>\n",
       "    </tr>\n",
       "    <tr>\n",
       "      <th>...</th>\n",
       "      <td>...</td>\n",
       "      <td>...</td>\n",
       "    </tr>\n",
       "    <tr>\n",
       "      <th>4571</th>\n",
       "      <td>dac0f22429c7f8e3931d0abaf5dfc8e5c772a48b</td>\n",
       "      <td>464.885451</td>\n",
       "    </tr>\n",
       "    <tr>\n",
       "      <th>4572</th>\n",
       "      <td>a75fa8770257e7c9368d059fe53d9ef431f4bdef</td>\n",
       "      <td>456.885875</td>\n",
       "    </tr>\n",
       "    <tr>\n",
       "      <th>4573</th>\n",
       "      <td>655fa6306720ff16e825903b5422a46608a77545</td>\n",
       "      <td>680.099369</td>\n",
       "    </tr>\n",
       "    <tr>\n",
       "      <th>4574</th>\n",
       "      <td>1f4bc3e3d56212d500625bfe8ac78ccff4362293</td>\n",
       "      <td>436.758109</td>\n",
       "    </tr>\n",
       "    <tr>\n",
       "      <th>4575</th>\n",
       "      <td>adf0d15b54317b6564ef56dad2b775bbb0ef50cc</td>\n",
       "      <td>51.606063</td>\n",
       "    </tr>\n",
       "  </tbody>\n",
       "</table>\n",
       "<p>4576 rows × 2 columns</p>\n",
       "</div>"
      ],
      "text/plain": [
       "                                  NU_INSCRICAO  NU_NOTA_MT\n",
       "0     73ff9fcc02f0a99919906c942c2e1a1042cdcf98  436.560057\n",
       "1     71a95f9f1b91a82c65ad94abbdf9f54e6066f968  472.805043\n",
       "2     b38a03232f43b11c9d0788abaf060f7366053b6d  576.738523\n",
       "3     70b682d9a3636be23f6120fa9d6b164eb3c6002d   66.133244\n",
       "4     715494628a50142ce8cb17191cfe6d0f3cae0934  534.015210\n",
       "...                                        ...         ...\n",
       "4571  dac0f22429c7f8e3931d0abaf5dfc8e5c772a48b  464.885451\n",
       "4572  a75fa8770257e7c9368d059fe53d9ef431f4bdef  456.885875\n",
       "4573  655fa6306720ff16e825903b5422a46608a77545  680.099369\n",
       "4574  1f4bc3e3d56212d500625bfe8ac78ccff4362293  436.758109\n",
       "4575  adf0d15b54317b6564ef56dad2b775bbb0ef50cc   51.606063\n",
       "\n",
       "[4576 rows x 2 columns]"
      ]
     },
     "execution_count": 49,
     "metadata": {},
     "output_type": "execute_result"
    }
   ],
   "source": [
    "# predição nos dados de teste\n",
    "pred_gbm = gbm.predict(x_teste)\n",
    "\n",
    "resultado_gbm = pd.DataFrame({'NU_INSCRICAO': inscricao_teste, 'NU_NOTA_MT': pred_gbm})\n",
    "resultado_gbm "
   ]
  },
  {
   "cell_type": "code",
   "execution_count": 50,
   "metadata": {},
   "outputs": [
    {
     "data": {
      "text/plain": [
       "count    4576.000000\n",
       "mean      367.782131\n",
       "std       207.654917\n",
       "min       -54.862182\n",
       "25%        88.670380\n",
       "50%       446.294192\n",
       "75%       488.462321\n",
       "max       840.892817\n",
       "Name: NU_NOTA_MT, dtype: float64"
      ]
     },
     "execution_count": 50,
     "metadata": {},
     "output_type": "execute_result"
    }
   ],
   "source": [
    "# descritivas\n",
    "resultado_gbm['NU_NOTA_MT'].describe()"
   ]
  },
  {
   "cell_type": "code",
   "execution_count": 51,
   "metadata": {},
   "outputs": [],
   "source": [
    "# salva o arquivo de resultado\n",
    "resultado_gbm.to_csv('answer.csv')"
   ]
  }
 ],
 "metadata": {
  "kernelspec": {
   "display_name": "Python 3",
   "language": "python",
   "name": "python3"
  },
  "language_info": {
   "codemirror_mode": {
    "name": "ipython",
    "version": 3
   },
   "file_extension": ".py",
   "mimetype": "text/x-python",
   "name": "python",
   "nbconvert_exporter": "python",
   "pygments_lexer": "ipython3",
   "version": "3.7.6"
  }
 },
 "nbformat": 4,
 "nbformat_minor": 4
}
