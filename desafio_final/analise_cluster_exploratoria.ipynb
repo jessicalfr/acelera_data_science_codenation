{
 "cells": [
  {
   "cell_type": "markdown",
   "metadata": {},
   "source": [
    "## Desafio Final - AceleraDev Data Science Codenation\n",
    "\n",
    "### Análise exploratória: Análise de cluster"
   ]
  },
  {
   "cell_type": "markdown",
   "metadata": {},
   "source": [
    "Autora: Jéssica Ramos\n",
    "\n",
    "Junho/2020"
   ]
  },
  {
   "cell_type": "markdown",
   "metadata": {},
   "source": [
    "O objetivo desse notebook é fazer uma análise de cluster exploratória de todas as empresas no mercado."
   ]
  },
  {
   "cell_type": "code",
   "execution_count": 1,
   "metadata": {},
   "outputs": [],
   "source": [
    "import pandas as pd\n",
    "import seaborn as sns\n",
    "from sklearn.cluster import KMeans"
   ]
  },
  {
   "cell_type": "code",
   "execution_count": 2,
   "metadata": {},
   "outputs": [
    {
     "data": {
      "text/plain": [
       "(462298, 56)"
      ]
     },
     "execution_count": 2,
     "metadata": {},
     "output_type": "execute_result"
    }
   ],
   "source": [
    "# leitura do dataset\n",
    "mercado = pd.read_csv('./data/dados_mercado_final.csv')\n",
    "mercado.shape"
   ]
  },
  {
   "cell_type": "code",
   "execution_count": 3,
   "metadata": {},
   "outputs": [
    {
     "data": {
      "text/html": [
       "<div>\n",
       "<style scoped>\n",
       "    .dataframe tbody tr th:only-of-type {\n",
       "        vertical-align: middle;\n",
       "    }\n",
       "\n",
       "    .dataframe tbody tr th {\n",
       "        vertical-align: top;\n",
       "    }\n",
       "\n",
       "    .dataframe thead th {\n",
       "        text-align: right;\n",
       "    }\n",
       "</style>\n",
       "<table border=\"1\" class=\"dataframe\">\n",
       "  <thead>\n",
       "    <tr style=\"text-align: right;\">\n",
       "      <th></th>\n",
       "      <th>Unnamed: 0</th>\n",
       "      <th>id</th>\n",
       "      <th>sg_uf_AC</th>\n",
       "      <th>sg_uf_AM</th>\n",
       "      <th>sg_uf_MA</th>\n",
       "      <th>sg_uf_PI</th>\n",
       "      <th>sg_uf_RN</th>\n",
       "      <th>sg_uf_RO</th>\n",
       "      <th>natureza_juridica_macro_ADMINISTRACAO PUBLICA</th>\n",
       "      <th>natureza_juridica_macro_CARGO POLITICO</th>\n",
       "      <th>...</th>\n",
       "      <th>fl_st_especial</th>\n",
       "      <th>fl_email</th>\n",
       "      <th>fl_telefone</th>\n",
       "      <th>fl_spa</th>\n",
       "      <th>fl_antt</th>\n",
       "      <th>fl_veiculo</th>\n",
       "      <th>fl_simples_irregular</th>\n",
       "      <th>fl_passivel_iss</th>\n",
       "      <th>uf_mesma_matriz</th>\n",
       "      <th>filiais</th>\n",
       "    </tr>\n",
       "  </thead>\n",
       "  <tbody>\n",
       "    <tr>\n",
       "      <th>0</th>\n",
       "      <td>0</td>\n",
       "      <td>a6984c3ae395090e3bee8ad63c3758b110de096d5d8195...</td>\n",
       "      <td>0</td>\n",
       "      <td>0</td>\n",
       "      <td>0</td>\n",
       "      <td>0</td>\n",
       "      <td>1</td>\n",
       "      <td>0</td>\n",
       "      <td>0</td>\n",
       "      <td>0</td>\n",
       "      <td>...</td>\n",
       "      <td>0</td>\n",
       "      <td>1</td>\n",
       "      <td>1</td>\n",
       "      <td>0</td>\n",
       "      <td>0</td>\n",
       "      <td>0</td>\n",
       "      <td>0</td>\n",
       "      <td>1</td>\n",
       "      <td>1</td>\n",
       "      <td>0</td>\n",
       "    </tr>\n",
       "    <tr>\n",
       "      <th>1</th>\n",
       "      <td>1</td>\n",
       "      <td>6178f41ade1365e44bc2c46654c2c8c0eaae27dcb476c4...</td>\n",
       "      <td>0</td>\n",
       "      <td>0</td>\n",
       "      <td>0</td>\n",
       "      <td>1</td>\n",
       "      <td>0</td>\n",
       "      <td>0</td>\n",
       "      <td>0</td>\n",
       "      <td>0</td>\n",
       "      <td>...</td>\n",
       "      <td>0</td>\n",
       "      <td>1</td>\n",
       "      <td>1</td>\n",
       "      <td>0</td>\n",
       "      <td>0</td>\n",
       "      <td>0</td>\n",
       "      <td>0</td>\n",
       "      <td>1</td>\n",
       "      <td>1</td>\n",
       "      <td>0</td>\n",
       "    </tr>\n",
       "    <tr>\n",
       "      <th>2</th>\n",
       "      <td>2</td>\n",
       "      <td>4a7e5069a397f12fdd7fd57111d6dc5d3ba558958efc02...</td>\n",
       "      <td>0</td>\n",
       "      <td>1</td>\n",
       "      <td>0</td>\n",
       "      <td>0</td>\n",
       "      <td>0</td>\n",
       "      <td>0</td>\n",
       "      <td>0</td>\n",
       "      <td>0</td>\n",
       "      <td>...</td>\n",
       "      <td>0</td>\n",
       "      <td>0</td>\n",
       "      <td>1</td>\n",
       "      <td>0</td>\n",
       "      <td>0</td>\n",
       "      <td>0</td>\n",
       "      <td>0</td>\n",
       "      <td>1</td>\n",
       "      <td>1</td>\n",
       "      <td>0</td>\n",
       "    </tr>\n",
       "    <tr>\n",
       "      <th>3</th>\n",
       "      <td>3</td>\n",
       "      <td>3348900fe63216a439d2e5238c79ddd46ede454df7b9d8...</td>\n",
       "      <td>0</td>\n",
       "      <td>1</td>\n",
       "      <td>0</td>\n",
       "      <td>0</td>\n",
       "      <td>0</td>\n",
       "      <td>0</td>\n",
       "      <td>0</td>\n",
       "      <td>0</td>\n",
       "      <td>...</td>\n",
       "      <td>0</td>\n",
       "      <td>1</td>\n",
       "      <td>1</td>\n",
       "      <td>0</td>\n",
       "      <td>0</td>\n",
       "      <td>0</td>\n",
       "      <td>0</td>\n",
       "      <td>1</td>\n",
       "      <td>1</td>\n",
       "      <td>0</td>\n",
       "    </tr>\n",
       "    <tr>\n",
       "      <th>4</th>\n",
       "      <td>4</td>\n",
       "      <td>1f9bcabc9d3173c1fe769899e4fac14b053037b953a1e4...</td>\n",
       "      <td>0</td>\n",
       "      <td>0</td>\n",
       "      <td>0</td>\n",
       "      <td>0</td>\n",
       "      <td>1</td>\n",
       "      <td>0</td>\n",
       "      <td>0</td>\n",
       "      <td>0</td>\n",
       "      <td>...</td>\n",
       "      <td>0</td>\n",
       "      <td>1</td>\n",
       "      <td>1</td>\n",
       "      <td>0</td>\n",
       "      <td>0</td>\n",
       "      <td>0</td>\n",
       "      <td>0</td>\n",
       "      <td>1</td>\n",
       "      <td>1</td>\n",
       "      <td>0</td>\n",
       "    </tr>\n",
       "  </tbody>\n",
       "</table>\n",
       "<p>5 rows × 56 columns</p>\n",
       "</div>"
      ],
      "text/plain": [
       "   Unnamed: 0                                                 id  sg_uf_AC  \\\n",
       "0           0  a6984c3ae395090e3bee8ad63c3758b110de096d5d8195...         0   \n",
       "1           1  6178f41ade1365e44bc2c46654c2c8c0eaae27dcb476c4...         0   \n",
       "2           2  4a7e5069a397f12fdd7fd57111d6dc5d3ba558958efc02...         0   \n",
       "3           3  3348900fe63216a439d2e5238c79ddd46ede454df7b9d8...         0   \n",
       "4           4  1f9bcabc9d3173c1fe769899e4fac14b053037b953a1e4...         0   \n",
       "\n",
       "   sg_uf_AM  sg_uf_MA  sg_uf_PI  sg_uf_RN  sg_uf_RO  \\\n",
       "0         0         0         0         1         0   \n",
       "1         0         0         1         0         0   \n",
       "2         1         0         0         0         0   \n",
       "3         1         0         0         0         0   \n",
       "4         0         0         0         1         0   \n",
       "\n",
       "   natureza_juridica_macro_ADMINISTRACAO PUBLICA  \\\n",
       "0                                              0   \n",
       "1                                              0   \n",
       "2                                              0   \n",
       "3                                              0   \n",
       "4                                              0   \n",
       "\n",
       "   natureza_juridica_macro_CARGO POLITICO  ...  fl_st_especial  fl_email  \\\n",
       "0                                       0  ...               0         1   \n",
       "1                                       0  ...               0         1   \n",
       "2                                       0  ...               0         0   \n",
       "3                                       0  ...               0         1   \n",
       "4                                       0  ...               0         1   \n",
       "\n",
       "   fl_telefone  fl_spa  fl_antt  fl_veiculo  fl_simples_irregular  \\\n",
       "0            1       0        0           0                     0   \n",
       "1            1       0        0           0                     0   \n",
       "2            1       0        0           0                     0   \n",
       "3            1       0        0           0                     0   \n",
       "4            1       0        0           0                     0   \n",
       "\n",
       "   fl_passivel_iss  uf_mesma_matriz  filiais  \n",
       "0                1                1        0  \n",
       "1                1                1        0  \n",
       "2                1                1        0  \n",
       "3                1                1        0  \n",
       "4                1                1        0  \n",
       "\n",
       "[5 rows x 56 columns]"
      ]
     },
     "execution_count": 3,
     "metadata": {},
     "output_type": "execute_result"
    }
   ],
   "source": [
    "mercado.head(5)"
   ]
  },
  {
   "cell_type": "markdown",
   "metadata": {},
   "source": [
    "O número de clusters será analisado por meio do *elbow method* utilizando o algoritmo k-Médias."
   ]
  },
  {
   "cell_type": "code",
   "execution_count": 4,
   "metadata": {},
   "outputs": [],
   "source": [
    "# calcula a soma dos quadrados dentro dos clusters\n",
    "def calculate_wcss(data):\n",
    "    wcss = list()\n",
    "    \n",
    "    for n in range(2, 31):\n",
    "        kmeans = KMeans(n_clusters=n)\n",
    "        kmeans.fit(X=data)\n",
    "        wcss.append(kmeans.inertia_)\n",
    "        \n",
    "    return wcss"
   ]
  },
  {
   "cell_type": "code",
   "execution_count": 5,
   "metadata": {},
   "outputs": [],
   "source": [
    "wcss_mercado = calculate_wcss(mercado.iloc[:, 2:])"
   ]
  },
  {
   "cell_type": "code",
   "execution_count": 6,
   "metadata": {},
   "outputs": [
    {
     "data": {
      "text/plain": [
       "<matplotlib.axes._subplots.AxesSubplot at 0x1660a36af08>"
      ]
     },
     "execution_count": 6,
     "metadata": {},
     "output_type": "execute_result"
    },
    {
     "data": {
      "image/png": "[encoded data removed]",
      "text/plain": [
       "<Figure size 432x288 with 1 Axes>"
      ]
     },
     "metadata": {
      "needs_background": "light"
     },
     "output_type": "display_data"
    }
   ],
   "source": [
    "# plot\n",
    "sns.lineplot(x=range(2, 31), y=wcss_mercado, estimator=None)"
   ]
  },
  {
   "cell_type": "markdown",
   "metadata": {},
   "source": [
    "Com todas as variáveis o número de clusters parece ser muito grande. A segunda tentativa será feita com um subset de variáveis. Selecionei as variáveis que supus que teriam mais relação com o objetivo do projeto."
   ]
  },
  {
   "cell_type": "code",
   "execution_count": 7,
   "metadata": {},
   "outputs": [],
   "source": [
    "# subset de variáveis\n",
    "variaveis = ['sg_uf_AC','sg_uf_AM','sg_uf_MA','sg_uf_PI','sg_uf_RN','sg_uf_RO',\n",
    "             'natureza_juridica_macro_ADMINISTRACAO PUBLICA','natureza_juridica_macro_CARGO POLITICO',\n",
    "             'natureza_juridica_macro_ENTIDADES EMPRESARIAIS','natureza_juridica_macro_ENTIDADES SEM FINS LUCRATIVOS',\n",
    "             'natureza_juridica_macro_INSTITUICOES EXTRATERRITORIAIS','natureza_juridica_macro_PESSOAS FISICAS',\n",
    "             'setor_AGROPECUARIA','setor_COMERCIO','setor_CONSTRUÇÃO CIVIL','setor_INDUSTRIA','setor_SEM INFORMACAO',\n",
    "             'setor_SERVIÇO','fl_rm_SIM','idade_empresa_anos','log_faturamento_estimado_aux',\n",
    "             'log_faturamento_estimado_grupo_aux','filiais','uf_mesma_matriz']"
   ]
  },
  {
   "cell_type": "code",
   "execution_count": 8,
   "metadata": {},
   "outputs": [],
   "source": [
    "wcss_mercado_subset = calculate_wcss(mercado.loc[:, variaveis])"
   ]
  },
  {
   "cell_type": "code",
   "execution_count": 9,
   "metadata": {},
   "outputs": [
    {
     "data": {
      "text/plain": [
       "<matplotlib.axes._subplots.AxesSubplot at 0x1660caf34c8>"
      ]
     },
     "execution_count": 9,
     "metadata": {},
     "output_type": "execute_result"
    },
    {
     "data": {
      "image/png": "[encoded data removed]",
      "text/plain": [
       "<Figure size 432x288 with 1 Axes>"
      ]
     },
     "metadata": {
      "needs_background": "light"
     },
     "output_type": "display_data"
    }
   ],
   "source": [
    "# plot\n",
    "sns.lineplot(x=range(2, 31), y=wcss_mercado_subset, estimator=None)"
   ]
  },
  {
   "cell_type": "markdown",
   "metadata": {},
   "source": [
    "Mesmo com o subset de variáveis, o número de clusters é muito grande."
   ]
  },
  {
   "cell_type": "code",
   "execution_count": 10,
   "metadata": {},
   "outputs": [],
   "source": [
    "# calcula a soma dos quadrados dentro dos clusters\n",
    "def calculate_wcss2(data):\n",
    "    wcss = list()\n",
    "    \n",
    "    for n in range(2, 51):\n",
    "        kmeans = KMeans(n_clusters=n)\n",
    "        kmeans.fit(X=data)\n",
    "        wcss.append(kmeans.inertia_)\n",
    "        \n",
    "    return wcss"
   ]
  },
  {
   "cell_type": "code",
   "execution_count": 11,
   "metadata": {},
   "outputs": [],
   "source": [
    "wcss_mercado_subset2 = calculate_wcss2(mercado.loc[:, variaveis])"
   ]
  },
  {
   "cell_type": "code",
   "execution_count": 12,
   "metadata": {},
   "outputs": [
    {
     "data": {
      "text/plain": [
       "<matplotlib.axes._subplots.AxesSubplot at 0x1660cb600c8>"
      ]
     },
     "execution_count": 12,
     "metadata": {},
     "output_type": "execute_result"
    },
    {
     "data": {
      "image/png": "[encoded data removed]",
      "text/plain": [
       "<Figure size 432x288 with 1 Axes>"
      ]
     },
     "metadata": {
      "needs_background": "light"
     },
     "output_type": "display_data"
    }
   ],
   "source": [
    "# plot\n",
    "sns.lineplot(x=range(2, 51), y=wcss_mercado_subset2, estimator=None)"
   ]
  },
  {
   "cell_type": "markdown",
   "metadata": {},
   "source": [
    "Mesmo testando até 50 clusters ainda não é possível identificar um cotovelo nos dados."
   ]
  },
  {
   "cell_type": "markdown",
   "metadata": {},
   "source": [
    "A ideia aqui era tentar identificar quantos perfis diferentes de empresas existem no mercado para, então, usar esse número como limite para o número de perfis de clientes de uma empresa X. Como essa abordagem não obteve bons resultados, vou tentar identificar o número de clusters existentes no portfolio das empresas 1, 2 e 3."
   ]
  },
  {
   "cell_type": "code",
   "execution_count": 13,
   "metadata": {},
   "outputs": [],
   "source": [
    "# empresa 1\n",
    "empresa1 = pd.read_csv('./data/estaticos_portfolio1.csv')"
   ]
  },
  {
   "cell_type": "markdown",
   "metadata": {},
   "source": [
    "Será utilizado aqui o subset de variáveis selecionado acima."
   ]
  },
  {
   "cell_type": "code",
   "execution_count": 14,
   "metadata": {},
   "outputs": [],
   "source": [
    "dados_empresa1 = mercado.loc[mercado['id'].isin(empresa1['id']), variaveis]"
   ]
  },
  {
   "cell_type": "markdown",
   "metadata": {},
   "source": [
    "Como aqui a base de dados é menor, utilizarei um intervalo maior de número de clusters, pois o tempo de processamento não é muito grande."
   ]
  },
  {
   "cell_type": "code",
   "execution_count": 17,
   "metadata": {},
   "outputs": [],
   "source": [
    "# calcula a soma dos quadrados dentro dos clusters\n",
    "def calculate_wcss3(data):\n",
    "    wcss = list()\n",
    "    \n",
    "    for n in range(2, 101):\n",
    "        kmeans = KMeans(n_clusters=n)\n",
    "        kmeans.fit(X=data)\n",
    "        wcss.append(kmeans.inertia_)\n",
    "        \n",
    "    return wcss"
   ]
  },
  {
   "cell_type": "code",
   "execution_count": 18,
   "metadata": {},
   "outputs": [],
   "source": [
    "wcss_empresa1 = calculate_wcss3(dados_empresa1)"
   ]
  },
  {
   "cell_type": "code",
   "execution_count": 19,
   "metadata": {},
   "outputs": [
    {
     "data": {
      "text/plain": [
       "<matplotlib.axes._subplots.AxesSubplot at 0x1660cbc9f88>"
      ]
     },
     "execution_count": 19,
     "metadata": {},
     "output_type": "execute_result"
    },
    {
     "data": {
      "image/png": "[encoded data removed]",
      "text/plain": [
       "<Figure size 432x288 with 1 Axes>"
      ]
     },
     "metadata": {
      "needs_background": "light"
     },
     "output_type": "display_data"
    }
   ],
   "source": [
    "# plot\n",
    "sns.lineplot(x=range(2, 101), y=wcss_empresa1, estimator=None)"
   ]
  },
  {
   "cell_type": "markdown",
   "metadata": {},
   "source": [
    "Aqui é possível identificar um número ótimo de clusters por volta do valor 20. Em seguida será calculado o valor exato. Antes, farei o mesmo para as outras duas empresas."
   ]
  },
  {
   "cell_type": "code",
   "execution_count": 20,
   "metadata": {},
   "outputs": [],
   "source": [
    "# empresa 2\n",
    "empresa2 = pd.read_csv('./data/estaticos_portfolio2.csv')"
   ]
  },
  {
   "cell_type": "code",
   "execution_count": 21,
   "metadata": {},
   "outputs": [],
   "source": [
    "dados_empresa2 = mercado.loc[mercado['id'].isin(empresa2['id']), variaveis]"
   ]
  },
  {
   "cell_type": "code",
   "execution_count": 22,
   "metadata": {},
   "outputs": [],
   "source": [
    "wcss_empresa2 = calculate_wcss3(dados_empresa2)"
   ]
  },
  {
   "cell_type": "code",
   "execution_count": 23,
   "metadata": {},
   "outputs": [
    {
     "data": {
      "text/plain": [
       "<matplotlib.axes._subplots.AxesSubplot at 0x1660eb89a08>"
      ]
     },
     "execution_count": 23,
     "metadata": {},
     "output_type": "execute_result"
    },
    {
     "data": {
      "image/png": "[encoded data removed]",
      "text/plain": [
       "<Figure size 432x288 with 1 Axes>"
      ]
     },
     "metadata": {
      "needs_background": "light"
     },
     "output_type": "display_data"
    }
   ],
   "source": [
    "# plot\n",
    "sns.lineplot(x=range(2, 101), y=wcss_empresa2, estimator=None)"
   ]
  },
  {
   "cell_type": "markdown",
   "metadata": {},
   "source": [
    "Aqui o cotovelo é um pouco menos claro mas ainda visível."
   ]
  },
  {
   "cell_type": "code",
   "execution_count": 24,
   "metadata": {},
   "outputs": [],
   "source": [
    "# empresa 3\n",
    "empresa3 = pd.read_csv('./data/estaticos_portfolio3.csv')"
   ]
  },
  {
   "cell_type": "code",
   "execution_count": 25,
   "metadata": {},
   "outputs": [],
   "source": [
    "dados_empresa3 = mercado.loc[mercado['id'].isin(empresa3['id']), variaveis]"
   ]
  },
  {
   "cell_type": "code",
   "execution_count": 26,
   "metadata": {},
   "outputs": [],
   "source": [
    "wcss_empresa3 = calculate_wcss3(dados_empresa3)"
   ]
  },
  {
   "cell_type": "code",
   "execution_count": 27,
   "metadata": {},
   "outputs": [
    {
     "data": {
      "text/plain": [
       "<matplotlib.axes._subplots.AxesSubplot at 0x1660ebf3bc8>"
      ]
     },
     "execution_count": 27,
     "metadata": {},
     "output_type": "execute_result"
    },
    {
     "data": {
      "image/png": "[encoded data removed]",
      "text/plain": [
       "<Figure size 432x288 with 1 Axes>"
      ]
     },
     "metadata": {
      "needs_background": "light"
     },
     "output_type": "display_data"
    }
   ],
   "source": [
    "# plot\n",
    "sns.lineplot(x=range(2, 101), y=wcss_empresa3, estimator=None)"
   ]
  },
  {
   "cell_type": "markdown",
   "metadata": {},
   "source": [
    "Aqui também dá para identificar um cotovelo por volta de 20 clusters.\n",
    "\n",
    "Agora vou calcular o número ótimo exato para cada uma das 3 empresas. Esse cálculo é feito calculando a maior distância entre a curva e a reta que liga os extremos da curva."
   ]
  },
  {
   "cell_type": "code",
   "execution_count": 52,
   "metadata": {},
   "outputs": [],
   "source": [
    "def numero_otimo_clusters(val_curva):\n",
    "    \n",
    "    # pega os valores extremos da curva\n",
    "    x_min = 2\n",
    "    y_min = val_curva[0]\n",
    "    x_max = 100\n",
    "    y_max = val_curva[-1]\n",
    "    \n",
    "    # coeficiente angular\n",
    "    m = (y_max-y_min)/(x_max-x_min)\n",
    "    \n",
    "    # calcula os valores da reta\n",
    "    x = list(range(2,101))\n",
    "    y = [0] * 99\n",
    "    \n",
    "    for i in x:\n",
    "        y[i-2] = y_min + m*(x[i-2] - x_min)\n",
    "        \n",
    "    # calcula a diferença entre a reta e a curva\n",
    "    dif = [0] * 99\n",
    "    \n",
    "    for j in range(0,99):\n",
    "        dif[j] = y[j] - val_curva[j]\n",
    "    \n",
    "    \n",
    "    # encontra o valor de x cuja diferença é a maior\n",
    "    index = dif.index(max(dif))\n",
    "    \n",
    "    return x[index]"
   ]
  },
  {
   "cell_type": "code",
   "execution_count": 53,
   "metadata": {},
   "outputs": [
    {
     "name": "stdout",
     "output_type": "stream",
     "text": [
      "21\n"
     ]
    }
   ],
   "source": [
    "# empresa 1\n",
    "n_empresa1 = numero_otimo_clusters(wcss_empresa1)\n",
    "print(n_empresa1)"
   ]
  },
  {
   "cell_type": "code",
   "execution_count": 54,
   "metadata": {},
   "outputs": [
    {
     "name": "stdout",
     "output_type": "stream",
     "text": [
      "29\n"
     ]
    }
   ],
   "source": [
    "# empresa 2\n",
    "n_empresa2 = numero_otimo_clusters(wcss_empresa2)\n",
    "print(n_empresa2)"
   ]
  },
  {
   "cell_type": "code",
   "execution_count": 55,
   "metadata": {},
   "outputs": [
    {
     "name": "stdout",
     "output_type": "stream",
     "text": [
      "23\n"
     ]
    }
   ],
   "source": [
    "# empresa 3\n",
    "n_empresa3 = numero_otimo_clusters(wcss_empresa3)\n",
    "print(n_empresa3)"
   ]
  },
  {
   "cell_type": "markdown",
   "metadata": {},
   "source": [
    "Para essas 3 empresas, o número ótimo de clusters ficou entre 20 e 30."
   ]
  },
  {
   "cell_type": "markdown",
   "metadata": {},
   "source": [
    "O objetivo dessa análise era identificar o número aproximado de clusters existentes dentre os clientes de uma empresa X. Esse número, então, será utilizado para a criação de perfis no sistema de recomendação.\n",
    "\n",
    "Ao invés de calcular apenas um perfil, será calculado um perfil por cluster (o centroide do cluster). Assim, empresas não clientes que estiverem próximas de algum desses centroides serão consideradas possíveis clientes."
   ]
  }
 ],
 "metadata": {
  "kernelspec": {
   "display_name": "Python 3",
   "language": "python",
   "name": "python3"
  },
  "language_info": {
   "codemirror_mode": {
    "name": "ipython",
    "version": 3
   },
   "file_extension": ".py",
   "mimetype": "text/x-python",
   "name": "python",
   "nbconvert_exporter": "python",
   "pygments_lexer": "ipython3",
   "version": "3.7.6"
  }
 },
 "nbformat": 4,
 "nbformat_minor": 4
}
