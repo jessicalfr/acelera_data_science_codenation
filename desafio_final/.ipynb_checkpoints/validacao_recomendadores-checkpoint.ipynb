{
 "cells": [
  {
   "cell_type": "markdown",
   "metadata": {},
   "source": [
    "## Desafio Final - AceleraDev Data Science Codenation\n",
    "\n",
    "### Validação dos algoritmos propostos"
   ]
  },
  {
   "cell_type": "markdown",
   "metadata": {},
   "source": [
    "Autora: Jéssica Ramos\n",
    "\n",
    "Junho/2020"
   ]
  },
  {
   "cell_type": "markdown",
   "metadata": {},
   "source": [
    "Nesse notebook serão feitas simulações para calcular o *Recall@N* nas 3 versões de algoritmos de recomendação construídas."
   ]
  },
  {
   "cell_type": "code",
   "execution_count": 1,
   "metadata": {},
   "outputs": [],
   "source": [
    "import pandas as pd\n",
    "from scipy.spatial import distance\n",
    "from sklearn.cluster import KMeans\n",
    "import statistics as s"
   ]
  },
  {
   "cell_type": "markdown",
   "metadata": {},
   "source": [
    "A versão 1 será avaliada primeiro. Para calcular o *Recall@N* vou utilizar os portfólios disponibilizados. Para cada empresa, vou remover 10% dos clientes da base em que será calculado o perfil.\n",
    "\n",
    "Em seguida, vou misturar esses 10% com possíveis clientes que não fazem parte do portfólio. O número de possíveis clientes adicionados vai ser definido de forma que os clientes reais sejam 10% da base. Depois, vou aplicar o algoritmo e verificar quantos clientes reais estão entre os Top N clientes.\n",
    "\n",
    "Isso será repetido diversas vezes selecionando tanto os 10% de clientes reais quanto os possíveis clientes aleatoriamente para formar uma distibuição de *Recall@N*."
   ]
  },
  {
   "cell_type": "code",
   "execution_count": 2,
   "metadata": {},
   "outputs": [
    {
     "data": {
      "text/html": [
       "<div>\n",
       "<style scoped>\n",
       "    .dataframe tbody tr th:only-of-type {\n",
       "        vertical-align: middle;\n",
       "    }\n",
       "\n",
       "    .dataframe tbody tr th {\n",
       "        vertical-align: top;\n",
       "    }\n",
       "\n",
       "    .dataframe thead th {\n",
       "        text-align: right;\n",
       "    }\n",
       "</style>\n",
       "<table border=\"1\" class=\"dataframe\">\n",
       "  <thead>\n",
       "    <tr style=\"text-align: right;\">\n",
       "      <th></th>\n",
       "      <th>Unnamed: 0</th>\n",
       "      <th>id</th>\n",
       "      <th>sg_uf_AC</th>\n",
       "      <th>sg_uf_AM</th>\n",
       "      <th>sg_uf_MA</th>\n",
       "      <th>sg_uf_PI</th>\n",
       "      <th>sg_uf_RN</th>\n",
       "      <th>sg_uf_RO</th>\n",
       "      <th>natureza_juridica_macro_ADMINISTRACAO PUBLICA</th>\n",
       "      <th>natureza_juridica_macro_CARGO POLITICO</th>\n",
       "      <th>...</th>\n",
       "      <th>fl_st_especial</th>\n",
       "      <th>fl_email</th>\n",
       "      <th>fl_telefone</th>\n",
       "      <th>fl_spa</th>\n",
       "      <th>fl_antt</th>\n",
       "      <th>fl_veiculo</th>\n",
       "      <th>fl_simples_irregular</th>\n",
       "      <th>fl_passivel_iss</th>\n",
       "      <th>uf_mesma_matriz</th>\n",
       "      <th>filiais</th>\n",
       "    </tr>\n",
       "  </thead>\n",
       "  <tbody>\n",
       "    <tr>\n",
       "      <th>0</th>\n",
       "      <td>0</td>\n",
       "      <td>a6984c3ae395090e3bee8ad63c3758b110de096d5d8195...</td>\n",
       "      <td>0</td>\n",
       "      <td>0</td>\n",
       "      <td>0</td>\n",
       "      <td>0</td>\n",
       "      <td>1</td>\n",
       "      <td>0</td>\n",
       "      <td>0</td>\n",
       "      <td>0</td>\n",
       "      <td>...</td>\n",
       "      <td>0</td>\n",
       "      <td>1</td>\n",
       "      <td>1</td>\n",
       "      <td>0</td>\n",
       "      <td>0</td>\n",
       "      <td>0</td>\n",
       "      <td>0</td>\n",
       "      <td>1</td>\n",
       "      <td>1</td>\n",
       "      <td>0</td>\n",
       "    </tr>\n",
       "    <tr>\n",
       "      <th>1</th>\n",
       "      <td>1</td>\n",
       "      <td>6178f41ade1365e44bc2c46654c2c8c0eaae27dcb476c4...</td>\n",
       "      <td>0</td>\n",
       "      <td>0</td>\n",
       "      <td>0</td>\n",
       "      <td>1</td>\n",
       "      <td>0</td>\n",
       "      <td>0</td>\n",
       "      <td>0</td>\n",
       "      <td>0</td>\n",
       "      <td>...</td>\n",
       "      <td>0</td>\n",
       "      <td>1</td>\n",
       "      <td>1</td>\n",
       "      <td>0</td>\n",
       "      <td>0</td>\n",
       "      <td>0</td>\n",
       "      <td>0</td>\n",
       "      <td>1</td>\n",
       "      <td>1</td>\n",
       "      <td>0</td>\n",
       "    </tr>\n",
       "    <tr>\n",
       "      <th>2</th>\n",
       "      <td>2</td>\n",
       "      <td>4a7e5069a397f12fdd7fd57111d6dc5d3ba558958efc02...</td>\n",
       "      <td>0</td>\n",
       "      <td>1</td>\n",
       "      <td>0</td>\n",
       "      <td>0</td>\n",
       "      <td>0</td>\n",
       "      <td>0</td>\n",
       "      <td>0</td>\n",
       "      <td>0</td>\n",
       "      <td>...</td>\n",
       "      <td>0</td>\n",
       "      <td>0</td>\n",
       "      <td>1</td>\n",
       "      <td>0</td>\n",
       "      <td>0</td>\n",
       "      <td>0</td>\n",
       "      <td>0</td>\n",
       "      <td>1</td>\n",
       "      <td>1</td>\n",
       "      <td>0</td>\n",
       "    </tr>\n",
       "    <tr>\n",
       "      <th>3</th>\n",
       "      <td>3</td>\n",
       "      <td>3348900fe63216a439d2e5238c79ddd46ede454df7b9d8...</td>\n",
       "      <td>0</td>\n",
       "      <td>1</td>\n",
       "      <td>0</td>\n",
       "      <td>0</td>\n",
       "      <td>0</td>\n",
       "      <td>0</td>\n",
       "      <td>0</td>\n",
       "      <td>0</td>\n",
       "      <td>...</td>\n",
       "      <td>0</td>\n",
       "      <td>1</td>\n",
       "      <td>1</td>\n",
       "      <td>0</td>\n",
       "      <td>0</td>\n",
       "      <td>0</td>\n",
       "      <td>0</td>\n",
       "      <td>1</td>\n",
       "      <td>1</td>\n",
       "      <td>0</td>\n",
       "    </tr>\n",
       "    <tr>\n",
       "      <th>4</th>\n",
       "      <td>4</td>\n",
       "      <td>1f9bcabc9d3173c1fe769899e4fac14b053037b953a1e4...</td>\n",
       "      <td>0</td>\n",
       "      <td>0</td>\n",
       "      <td>0</td>\n",
       "      <td>0</td>\n",
       "      <td>1</td>\n",
       "      <td>0</td>\n",
       "      <td>0</td>\n",
       "      <td>0</td>\n",
       "      <td>...</td>\n",
       "      <td>0</td>\n",
       "      <td>1</td>\n",
       "      <td>1</td>\n",
       "      <td>0</td>\n",
       "      <td>0</td>\n",
       "      <td>0</td>\n",
       "      <td>0</td>\n",
       "      <td>1</td>\n",
       "      <td>1</td>\n",
       "      <td>0</td>\n",
       "    </tr>\n",
       "  </tbody>\n",
       "</table>\n",
       "<p>5 rows × 56 columns</p>\n",
       "</div>"
      ],
      "text/plain": [
       "   Unnamed: 0                                                 id  sg_uf_AC  \\\n",
       "0           0  a6984c3ae395090e3bee8ad63c3758b110de096d5d8195...         0   \n",
       "1           1  6178f41ade1365e44bc2c46654c2c8c0eaae27dcb476c4...         0   \n",
       "2           2  4a7e5069a397f12fdd7fd57111d6dc5d3ba558958efc02...         0   \n",
       "3           3  3348900fe63216a439d2e5238c79ddd46ede454df7b9d8...         0   \n",
       "4           4  1f9bcabc9d3173c1fe769899e4fac14b053037b953a1e4...         0   \n",
       "\n",
       "   sg_uf_AM  sg_uf_MA  sg_uf_PI  sg_uf_RN  sg_uf_RO  \\\n",
       "0         0         0         0         1         0   \n",
       "1         0         0         1         0         0   \n",
       "2         1         0         0         0         0   \n",
       "3         1         0         0         0         0   \n",
       "4         0         0         0         1         0   \n",
       "\n",
       "   natureza_juridica_macro_ADMINISTRACAO PUBLICA  \\\n",
       "0                                              0   \n",
       "1                                              0   \n",
       "2                                              0   \n",
       "3                                              0   \n",
       "4                                              0   \n",
       "\n",
       "   natureza_juridica_macro_CARGO POLITICO  ...  fl_st_especial  fl_email  \\\n",
       "0                                       0  ...               0         1   \n",
       "1                                       0  ...               0         1   \n",
       "2                                       0  ...               0         0   \n",
       "3                                       0  ...               0         1   \n",
       "4                                       0  ...               0         1   \n",
       "\n",
       "   fl_telefone  fl_spa  fl_antt  fl_veiculo  fl_simples_irregular  \\\n",
       "0            1       0        0           0                     0   \n",
       "1            1       0        0           0                     0   \n",
       "2            1       0        0           0                     0   \n",
       "3            1       0        0           0                     0   \n",
       "4            1       0        0           0                     0   \n",
       "\n",
       "   fl_passivel_iss  uf_mesma_matriz  filiais  \n",
       "0                1                1        0  \n",
       "1                1                1        0  \n",
       "2                1                1        0  \n",
       "3                1                1        0  \n",
       "4                1                1        0  \n",
       "\n",
       "[5 rows x 56 columns]"
      ]
     },
     "execution_count": 2,
     "metadata": {},
     "output_type": "execute_result"
    }
   ],
   "source": [
    "# leitura da base do mercado\n",
    "mercado_todas = pd.read_csv('./data/dados_mercado_final.csv')\n",
    "mercado_todas.head(5)"
   ]
  },
  {
   "cell_type": "code",
   "execution_count": 3,
   "metadata": {},
   "outputs": [],
   "source": [
    "# remove a primeira coluna\n",
    "mercado_todas = mercado_todas.iloc[:, 1:]"
   ]
  },
  {
   "cell_type": "code",
   "execution_count": 4,
   "metadata": {},
   "outputs": [],
   "source": [
    "def euclidian(d, p):\n",
    "    return d.apply(lambda row: distance.euclidean(p, row), axis=1)\n",
    "\n",
    "def valida_algoritmo_simples(portfolio, mercado, n):\n",
    "    \n",
    "    ## seleciona 10% do portfolio\n",
    "    tam = round(0.1*len(portfolio))\n",
    "    teste = list(portfolio.sample(tam))\n",
    "    portfolio = list(portfolio)\n",
    "    treino = list(set(portfolio) - set(teste))\n",
    "    \n",
    "    ## aplica o algoritmo usando a base de treino\n",
    "    # calcula o perfil\n",
    "    atr_clientes = mercado.loc[mercado['id'].isin(treino), :]\n",
    "    perfil = atr_clientes.iloc[:, 1:].mean() # a primeira coluna é o ID\n",
    "    \n",
    "    # separa possíveis clientes\n",
    "    tam_resto = round(tam/0.1) - tam\n",
    "    nao_clientes = mercado.loc[~mercado['id'].isin(treino), :]\n",
    "    resto = list(nao_clientes['id'].sample(tam_resto))\n",
    "    ids_possivel = teste + resto\n",
    "    mercado_possivel = mercado.loc[mercado['id'].isin(ids_possivel), :]\n",
    "    \n",
    "    # calcula a similaridade\n",
    "    distancia = pd.DataFrame({'id': mercado_possivel['id']})\n",
    "    distancia['dist'] = euclidian(mercado_possivel.iloc[:, 1:], perfil)\n",
    "    \n",
    "    # ordena o dataset pelas distâncias\n",
    "    distancia.sort_values(by='dist', inplace=True)\n",
    "    \n",
    "    # separa o top N\n",
    "    top_n = distancia.iloc[0:n, 0].reset_index(drop=True)\n",
    "    \n",
    "    # verifica quantos do top N são verdadeiros clientes\n",
    "    clientes_reais = len(top_n[top_n.isin(teste)])\n",
    "    \n",
    "    # calcula o recall\n",
    "    recall = clientes_reais/n\n",
    "    \n",
    "    return recall"
   ]
  },
  {
   "cell_type": "code",
   "execution_count": 5,
   "metadata": {},
   "outputs": [
    {
     "data": {
      "text/html": [
       "<div>\n",
       "<style scoped>\n",
       "    .dataframe tbody tr th:only-of-type {\n",
       "        vertical-align: middle;\n",
       "    }\n",
       "\n",
       "    .dataframe tbody tr th {\n",
       "        vertical-align: top;\n",
       "    }\n",
       "\n",
       "    .dataframe thead th {\n",
       "        text-align: right;\n",
       "    }\n",
       "</style>\n",
       "<table border=\"1\" class=\"dataframe\">\n",
       "  <thead>\n",
       "    <tr style=\"text-align: right;\">\n",
       "      <th></th>\n",
       "      <th>Unnamed: 0</th>\n",
       "      <th>id</th>\n",
       "      <th>fl_matriz</th>\n",
       "      <th>de_natureza_juridica</th>\n",
       "      <th>sg_uf</th>\n",
       "      <th>natureza_juridica_macro</th>\n",
       "      <th>de_ramo</th>\n",
       "      <th>setor</th>\n",
       "      <th>idade_empresa_anos</th>\n",
       "      <th>idade_emp_cat</th>\n",
       "      <th>...</th>\n",
       "      <th>media_meses_servicos</th>\n",
       "      <th>max_meses_servicos</th>\n",
       "      <th>min_meses_servicos</th>\n",
       "      <th>qt_funcionarios</th>\n",
       "      <th>qt_funcionarios_12meses</th>\n",
       "      <th>qt_funcionarios_24meses</th>\n",
       "      <th>tx_crescimento_12meses</th>\n",
       "      <th>tx_crescimento_24meses</th>\n",
       "      <th>tx_rotatividade</th>\n",
       "      <th>qt_filiais</th>\n",
       "    </tr>\n",
       "  </thead>\n",
       "  <tbody>\n",
       "    <tr>\n",
       "      <th>0</th>\n",
       "      <td>0</td>\n",
       "      <td>dabe79bec87c88ae04e869bf6bd321ee5e1893cecf6625...</td>\n",
       "      <td>True</td>\n",
       "      <td>EMPRESARIO INDIVIDUAL</td>\n",
       "      <td>PI</td>\n",
       "      <td>OUTROS</td>\n",
       "      <td>COMERCIO VAREJISTA</td>\n",
       "      <td>COMERCIO</td>\n",
       "      <td>0.646575</td>\n",
       "      <td>&lt;= 1</td>\n",
       "      <td>...</td>\n",
       "      <td>NaN</td>\n",
       "      <td>NaN</td>\n",
       "      <td>NaN</td>\n",
       "      <td>NaN</td>\n",
       "      <td>NaN</td>\n",
       "      <td>NaN</td>\n",
       "      <td>NaN</td>\n",
       "      <td>NaN</td>\n",
       "      <td>NaN</td>\n",
       "      <td>0</td>\n",
       "    </tr>\n",
       "    <tr>\n",
       "      <th>1</th>\n",
       "      <td>1</td>\n",
       "      <td>32e5f4e10932153a7ba869cb0386e7e02d49d2461046b8...</td>\n",
       "      <td>False</td>\n",
       "      <td>EMPRESARIO INDIVIDUAL</td>\n",
       "      <td>MA</td>\n",
       "      <td>OUTROS</td>\n",
       "      <td>COMERCIO VAREJISTA</td>\n",
       "      <td>COMERCIO</td>\n",
       "      <td>6.586301</td>\n",
       "      <td>5 a 10</td>\n",
       "      <td>...</td>\n",
       "      <td>NaN</td>\n",
       "      <td>NaN</td>\n",
       "      <td>NaN</td>\n",
       "      <td>0.0</td>\n",
       "      <td>0.0</td>\n",
       "      <td>2.0</td>\n",
       "      <td>NaN</td>\n",
       "      <td>-100.0</td>\n",
       "      <td>0.0</td>\n",
       "      <td>4</td>\n",
       "    </tr>\n",
       "    <tr>\n",
       "      <th>2</th>\n",
       "      <td>2</td>\n",
       "      <td>a95d6f30bba445bd3d6b0c5b36f865b38ec01d17336090...</td>\n",
       "      <td>True</td>\n",
       "      <td>EMPRESARIO INDIVIDUAL</td>\n",
       "      <td>MA</td>\n",
       "      <td>OUTROS</td>\n",
       "      <td>COMERCIO VAREJISTA</td>\n",
       "      <td>COMERCIO</td>\n",
       "      <td>8.010959</td>\n",
       "      <td>5 a 10</td>\n",
       "      <td>...</td>\n",
       "      <td>NaN</td>\n",
       "      <td>NaN</td>\n",
       "      <td>NaN</td>\n",
       "      <td>NaN</td>\n",
       "      <td>NaN</td>\n",
       "      <td>NaN</td>\n",
       "      <td>NaN</td>\n",
       "      <td>NaN</td>\n",
       "      <td>NaN</td>\n",
       "      <td>0</td>\n",
       "    </tr>\n",
       "    <tr>\n",
       "      <th>3</th>\n",
       "      <td>3</td>\n",
       "      <td>6cb309685cea0b6d2988818792ec2e6fcb2bd02e0afa9e...</td>\n",
       "      <td>True</td>\n",
       "      <td>EMPRESARIO INDIVIDUAL</td>\n",
       "      <td>RN</td>\n",
       "      <td>OUTROS</td>\n",
       "      <td>COMERCIO VAREJISTA</td>\n",
       "      <td>COMERCIO</td>\n",
       "      <td>20.863014</td>\n",
       "      <td>&gt; 20</td>\n",
       "      <td>...</td>\n",
       "      <td>NaN</td>\n",
       "      <td>NaN</td>\n",
       "      <td>NaN</td>\n",
       "      <td>NaN</td>\n",
       "      <td>NaN</td>\n",
       "      <td>NaN</td>\n",
       "      <td>NaN</td>\n",
       "      <td>NaN</td>\n",
       "      <td>NaN</td>\n",
       "      <td>0</td>\n",
       "    </tr>\n",
       "    <tr>\n",
       "      <th>4</th>\n",
       "      <td>4</td>\n",
       "      <td>f72aa7fa6787b0a5a1c88885b6120850df8ee0f71adc25...</td>\n",
       "      <td>True</td>\n",
       "      <td>SOCIEDADE EMPRESARIA LIMITADA</td>\n",
       "      <td>RN</td>\n",
       "      <td>ENTIDADES EMPRESARIAIS</td>\n",
       "      <td>COMERCIO VAREJISTA</td>\n",
       "      <td>COMERCIO</td>\n",
       "      <td>18.726027</td>\n",
       "      <td>15 a 20</td>\n",
       "      <td>...</td>\n",
       "      <td>39.454762</td>\n",
       "      <td>91.2</td>\n",
       "      <td>19.333333</td>\n",
       "      <td>14.0</td>\n",
       "      <td>15.0</td>\n",
       "      <td>25.0</td>\n",
       "      <td>-6.666667</td>\n",
       "      <td>-44.0</td>\n",
       "      <td>0.0</td>\n",
       "      <td>3</td>\n",
       "    </tr>\n",
       "  </tbody>\n",
       "</table>\n",
       "<p>5 rows × 182 columns</p>\n",
       "</div>"
      ],
      "text/plain": [
       "   Unnamed: 0                                                 id  fl_matriz  \\\n",
       "0           0  dabe79bec87c88ae04e869bf6bd321ee5e1893cecf6625...       True   \n",
       "1           1  32e5f4e10932153a7ba869cb0386e7e02d49d2461046b8...      False   \n",
       "2           2  a95d6f30bba445bd3d6b0c5b36f865b38ec01d17336090...       True   \n",
       "3           3  6cb309685cea0b6d2988818792ec2e6fcb2bd02e0afa9e...       True   \n",
       "4           4  f72aa7fa6787b0a5a1c88885b6120850df8ee0f71adc25...       True   \n",
       "\n",
       "            de_natureza_juridica sg_uf natureza_juridica_macro  \\\n",
       "0          EMPRESARIO INDIVIDUAL    PI                  OUTROS   \n",
       "1          EMPRESARIO INDIVIDUAL    MA                  OUTROS   \n",
       "2          EMPRESARIO INDIVIDUAL    MA                  OUTROS   \n",
       "3          EMPRESARIO INDIVIDUAL    RN                  OUTROS   \n",
       "4  SOCIEDADE EMPRESARIA LIMITADA    RN  ENTIDADES EMPRESARIAIS   \n",
       "\n",
       "              de_ramo     setor  idade_empresa_anos idade_emp_cat  ...  \\\n",
       "0  COMERCIO VAREJISTA  COMERCIO            0.646575          <= 1  ...   \n",
       "1  COMERCIO VAREJISTA  COMERCIO            6.586301        5 a 10  ...   \n",
       "2  COMERCIO VAREJISTA  COMERCIO            8.010959        5 a 10  ...   \n",
       "3  COMERCIO VAREJISTA  COMERCIO           20.863014          > 20  ...   \n",
       "4  COMERCIO VAREJISTA  COMERCIO           18.726027       15 a 20  ...   \n",
       "\n",
       "   media_meses_servicos  max_meses_servicos  min_meses_servicos  \\\n",
       "0                   NaN                 NaN                 NaN   \n",
       "1                   NaN                 NaN                 NaN   \n",
       "2                   NaN                 NaN                 NaN   \n",
       "3                   NaN                 NaN                 NaN   \n",
       "4             39.454762                91.2           19.333333   \n",
       "\n",
       "   qt_funcionarios  qt_funcionarios_12meses qt_funcionarios_24meses  \\\n",
       "0              NaN                      NaN                     NaN   \n",
       "1              0.0                      0.0                     2.0   \n",
       "2              NaN                      NaN                     NaN   \n",
       "3              NaN                      NaN                     NaN   \n",
       "4             14.0                     15.0                    25.0   \n",
       "\n",
       "   tx_crescimento_12meses  tx_crescimento_24meses  tx_rotatividade qt_filiais  \n",
       "0                     NaN                     NaN              NaN          0  \n",
       "1                     NaN                  -100.0              0.0          4  \n",
       "2                     NaN                     NaN              NaN          0  \n",
       "3                     NaN                     NaN              NaN          0  \n",
       "4               -6.666667                   -44.0              0.0          3  \n",
       "\n",
       "[5 rows x 182 columns]"
      ]
     },
     "execution_count": 5,
     "metadata": {},
     "output_type": "execute_result"
    }
   ],
   "source": [
    "# leitura do portfolio da empresa 1\n",
    "empresa1 = pd.read_csv('./data/estaticos_portfolio1.csv')\n",
    "empresa1.head()"
   ]
  },
  {
   "cell_type": "code",
   "execution_count": 7,
   "metadata": {},
   "outputs": [],
   "source": [
    "# cria a repetição da validação no top 10\n",
    "empresa1_t1 = list()\n",
    "\n",
    "for i in range(1, 1001):\n",
    "    recall = valida_algoritmo_simples(empresa1['id'], mercado_todas, 10)\n",
    "    empresa1_t1.append(recall)"
   ]
  },
  {
   "cell_type": "code",
   "execution_count": 8,
   "metadata": {},
   "outputs": [
    {
     "name": "stdout",
     "output_type": "stream",
     "text": [
      "O valor estimado do Recall@10 é  0.1971\n"
     ]
    }
   ],
   "source": [
    "# média\n",
    "print('O valor estimado do Recall@10 é ', s.mean(empresa1_t1))"
   ]
  },
  {
   "cell_type": "code",
   "execution_count": 9,
   "metadata": {},
   "outputs": [],
   "source": [
    "# cria a repetição da validação no top 20\n",
    "empresa1_t2 = list()\n",
    "\n",
    "for i in range(1, 1001):\n",
    "    recall = valida_algoritmo_simples(empresa1['id'], mercado_todas, 20)\n",
    "    empresa1_t2.append(recall)"
   ]
  },
  {
   "cell_type": "code",
   "execution_count": 10,
   "metadata": {},
   "outputs": [
    {
     "name": "stdout",
     "output_type": "stream",
     "text": [
      "O valor estimado do Recall@20 é  0.18195\n"
     ]
    }
   ],
   "source": [
    "# média\n",
    "print('O valor estimado do Recall@20 é ', s.mean(empresa1_t2))"
   ]
  },
  {
   "cell_type": "markdown",
   "metadata": {},
   "source": [
    "Agora vou repetir a mesma análise pra empresa 2."
   ]
  },
  {
   "cell_type": "code",
   "execution_count": 11,
   "metadata": {},
   "outputs": [
    {
     "data": {
      "text/html": [
       "<div>\n",
       "<style scoped>\n",
       "    .dataframe tbody tr th:only-of-type {\n",
       "        vertical-align: middle;\n",
       "    }\n",
       "\n",
       "    .dataframe tbody tr th {\n",
       "        vertical-align: top;\n",
       "    }\n",
       "\n",
       "    .dataframe thead th {\n",
       "        text-align: right;\n",
       "    }\n",
       "</style>\n",
       "<table border=\"1\" class=\"dataframe\">\n",
       "  <thead>\n",
       "    <tr style=\"text-align: right;\">\n",
       "      <th></th>\n",
       "      <th>Unnamed: 0</th>\n",
       "      <th>id</th>\n",
       "    </tr>\n",
       "  </thead>\n",
       "  <tbody>\n",
       "    <tr>\n",
       "      <th>0</th>\n",
       "      <td>0</td>\n",
       "      <td>09e95c1a84049001d086470a8f320a19b076f955a89122...</td>\n",
       "    </tr>\n",
       "    <tr>\n",
       "      <th>1</th>\n",
       "      <td>1</td>\n",
       "      <td>dc9d155f5bcd3172031e2ec9431786e8871ff4b0ff4728...</td>\n",
       "    </tr>\n",
       "    <tr>\n",
       "      <th>2</th>\n",
       "      <td>2</td>\n",
       "      <td>16843c9ffb920170477118933798510d8d5f00f5c56c12...</td>\n",
       "    </tr>\n",
       "    <tr>\n",
       "      <th>3</th>\n",
       "      <td>3</td>\n",
       "      <td>ff045934d90aab184dd15e66daf3b3c97193bda5449298...</td>\n",
       "    </tr>\n",
       "    <tr>\n",
       "      <th>4</th>\n",
       "      <td>4</td>\n",
       "      <td>a0ce528caab2c62497a548d0ebd9e935143ef81ed7dbf0...</td>\n",
       "    </tr>\n",
       "  </tbody>\n",
       "</table>\n",
       "</div>"
      ],
      "text/plain": [
       "   Unnamed: 0                                                 id\n",
       "0           0  09e95c1a84049001d086470a8f320a19b076f955a89122...\n",
       "1           1  dc9d155f5bcd3172031e2ec9431786e8871ff4b0ff4728...\n",
       "2           2  16843c9ffb920170477118933798510d8d5f00f5c56c12...\n",
       "3           3  ff045934d90aab184dd15e66daf3b3c97193bda5449298...\n",
       "4           4  a0ce528caab2c62497a548d0ebd9e935143ef81ed7dbf0..."
      ]
     },
     "execution_count": 11,
     "metadata": {},
     "output_type": "execute_result"
    }
   ],
   "source": [
    "# leitura do portfolio da empresa 2\n",
    "empresa2 = pd.read_csv('./data/estaticos_portfolio2.csv')\n",
    "empresa2.head()"
   ]
  },
  {
   "cell_type": "code",
   "execution_count": 12,
   "metadata": {},
   "outputs": [],
   "source": [
    "# cria a repetição da validação no top 10\n",
    "empresa2_t1 = list()\n",
    "\n",
    "for i in range(1, 1001):\n",
    "    recall = valida_algoritmo_simples(empresa2['id'], mercado_todas, 10)\n",
    "    empresa2_t1.append(recall)"
   ]
  },
  {
   "cell_type": "code",
   "execution_count": 13,
   "metadata": {},
   "outputs": [
    {
     "name": "stdout",
     "output_type": "stream",
     "text": [
      "O valor estimado do Recall@10 é  0.737\n"
     ]
    }
   ],
   "source": [
    "# média\n",
    "print('O valor estimado do Recall@10 é ', s.mean(empresa2_t1))"
   ]
  },
  {
   "cell_type": "code",
   "execution_count": 14,
   "metadata": {},
   "outputs": [],
   "source": [
    "# cria a repetição da validação no top 20\n",
    "empresa2_t2 = list()\n",
    "\n",
    "for i in range(1, 1001):\n",
    "    recall = valida_algoritmo_simples(empresa2['id'], mercado_todas, 20)\n",
    "    empresa2_t2.append(recall)"
   ]
  },
  {
   "cell_type": "code",
   "execution_count": 15,
   "metadata": {},
   "outputs": [
    {
     "name": "stdout",
     "output_type": "stream",
     "text": [
      "O valor estimado do Recall@20 é  0.7187\n"
     ]
    }
   ],
   "source": [
    "# média\n",
    "print('O valor estimado do Recall@20 é ', s.mean(empresa2_t2))"
   ]
  },
  {
   "cell_type": "markdown",
   "metadata": {},
   "source": [
    "Por fim, vou repetir a mesma análise pra empresa 3."
   ]
  },
  {
   "cell_type": "code",
   "execution_count": 16,
   "metadata": {},
   "outputs": [
    {
     "data": {
      "text/html": [
       "<div>\n",
       "<style scoped>\n",
       "    .dataframe tbody tr th:only-of-type {\n",
       "        vertical-align: middle;\n",
       "    }\n",
       "\n",
       "    .dataframe tbody tr th {\n",
       "        vertical-align: top;\n",
       "    }\n",
       "\n",
       "    .dataframe thead th {\n",
       "        text-align: right;\n",
       "    }\n",
       "</style>\n",
       "<table border=\"1\" class=\"dataframe\">\n",
       "  <thead>\n",
       "    <tr style=\"text-align: right;\">\n",
       "      <th></th>\n",
       "      <th>Unnamed: 0</th>\n",
       "      <th>id</th>\n",
       "    </tr>\n",
       "  </thead>\n",
       "  <tbody>\n",
       "    <tr>\n",
       "      <th>0</th>\n",
       "      <td>0</td>\n",
       "      <td>bb61c09449a1c1f8b78955d8b7a7f73599e78358993fe2...</td>\n",
       "    </tr>\n",
       "    <tr>\n",
       "      <th>1</th>\n",
       "      <td>1</td>\n",
       "      <td>16843c9ffb920170477118933798510d8d5f00f5c56c12...</td>\n",
       "    </tr>\n",
       "    <tr>\n",
       "      <th>2</th>\n",
       "      <td>2</td>\n",
       "      <td>1b8d092daff12bed8b3c2ab93bf5df2921865a68aca185...</td>\n",
       "    </tr>\n",
       "    <tr>\n",
       "      <th>3</th>\n",
       "      <td>3</td>\n",
       "      <td>3aafa3a1f12f483740a52956af100223333d0e3c79bf2c...</td>\n",
       "    </tr>\n",
       "    <tr>\n",
       "      <th>4</th>\n",
       "      <td>4</td>\n",
       "      <td>c60431fbca90067f105570e1e8a684bcd7048205bbf6c4...</td>\n",
       "    </tr>\n",
       "  </tbody>\n",
       "</table>\n",
       "</div>"
      ],
      "text/plain": [
       "   Unnamed: 0                                                 id\n",
       "0           0  bb61c09449a1c1f8b78955d8b7a7f73599e78358993fe2...\n",
       "1           1  16843c9ffb920170477118933798510d8d5f00f5c56c12...\n",
       "2           2  1b8d092daff12bed8b3c2ab93bf5df2921865a68aca185...\n",
       "3           3  3aafa3a1f12f483740a52956af100223333d0e3c79bf2c...\n",
       "4           4  c60431fbca90067f105570e1e8a684bcd7048205bbf6c4..."
      ]
     },
     "execution_count": 16,
     "metadata": {},
     "output_type": "execute_result"
    }
   ],
   "source": [
    "# leitura do portfolio da empresa 3\n",
    "empresa3 = pd.read_csv('./data/estaticos_portfolio3.csv')\n",
    "empresa3.head()"
   ]
  },
  {
   "cell_type": "code",
   "execution_count": 17,
   "metadata": {},
   "outputs": [],
   "source": [
    "# cria a repetição da validação no top 10\n",
    "empresa3_t1 = list()\n",
    "\n",
    "for i in range(1, 1001):\n",
    "    recall = valida_algoritmo_simples(empresa3['id'], mercado_todas, 10)\n",
    "    empresa3_t1.append(recall)"
   ]
  },
  {
   "cell_type": "code",
   "execution_count": 18,
   "metadata": {},
   "outputs": [
    {
     "name": "stdout",
     "output_type": "stream",
     "text": [
      "O valor estimado do Recall@10 é  0.9143\n"
     ]
    }
   ],
   "source": [
    "# média\n",
    "print('O valor estimado do Recall@10 é ', s.mean(empresa3_t1))"
   ]
  },
  {
   "cell_type": "code",
   "execution_count": 19,
   "metadata": {},
   "outputs": [],
   "source": [
    "# cria a repetição da validação no top 20\n",
    "empresa3_t2 = list()\n",
    "\n",
    "for i in range(1, 1001):\n",
    "    recall = valida_algoritmo_simples(empresa3['id'], mercado_todas, 20)\n",
    "    empresa3_t2.append(recall)"
   ]
  },
  {
   "cell_type": "code",
   "execution_count": 20,
   "metadata": {},
   "outputs": [
    {
     "name": "stdout",
     "output_type": "stream",
     "text": [
      "O valor estimado do Recall@20 é  0.81165\n"
     ]
    }
   ],
   "source": [
    "# média\n",
    "print('O valor estimado do Recall@20 é ', s.mean(empresa3_t2))"
   ]
  },
  {
   "cell_type": "markdown",
   "metadata": {},
   "source": [
    "Apenas a empresa 1 teve um *recall* baixo, tanto no top 10 quanto no top 20.\n",
    "\n",
    "Em seguida será testada a versão 2 do algoritmo."
   ]
  },
  {
   "cell_type": "code",
   "execution_count": 21,
   "metadata": {},
   "outputs": [],
   "source": [
    "# lista de variáveis\n",
    "variaveis = ['id','sg_uf_AC', 'sg_uf_AM', 'sg_uf_MA', 'sg_uf_PI', 'sg_uf_RN', 'sg_uf_RO',\n",
    "             'natureza_juridica_macro_ADMINISTRACAO PUBLICA', 'natureza_juridica_macro_CARGO POLITICO',\n",
    "             'natureza_juridica_macro_ENTIDADES EMPRESARIAIS','natureza_juridica_macro_ENTIDADES SEM FINS LUCRATIVOS',\n",
    "             'natureza_juridica_macro_INSTITUICOES EXTRATERRITORIAIS', 'natureza_juridica_macro_PESSOAS FISICAS',\n",
    "             'setor_AGROPECUARIA', 'setor_COMERCIO', 'setor_CONSTRUÇÃO CIVIL', 'setor_INDUSTRIA',\n",
    "             'setor_SEM INFORMACAO','setor_SERVIÇO', 'fl_rm_SIM', 'idade_empresa_anos',\n",
    "             'log_faturamento_estimado_aux','log_faturamento_estimado_grupo_aux', 'filiais', 'uf_mesma_matriz']"
   ]
  },
  {
   "cell_type": "markdown",
   "metadata": {},
   "source": [
    "Empresa 1:"
   ]
  },
  {
   "cell_type": "code",
   "execution_count": 22,
   "metadata": {},
   "outputs": [],
   "source": [
    "# cria a repetição da validação no top 10\n",
    "empresa1_t3 = list()\n",
    "\n",
    "for i in range(1, 1001):\n",
    "    recall = valida_algoritmo_simples(empresa1['id'], mercado_todas.loc[:, variaveis], 10)\n",
    "    empresa1_t3.append(recall)"
   ]
  },
  {
   "cell_type": "code",
   "execution_count": 23,
   "metadata": {},
   "outputs": [
    {
     "name": "stdout",
     "output_type": "stream",
     "text": [
      "O valor estimado do Recall@10 é  0.2039\n"
     ]
    }
   ],
   "source": [
    "# média\n",
    "print('O valor estimado do Recall@10 é ', s.mean(empresa1_t3))"
   ]
  },
  {
   "cell_type": "code",
   "execution_count": 24,
   "metadata": {},
   "outputs": [],
   "source": [
    "# cria a repetição da validação no top 20\n",
    "empresa1_t4 = list()\n",
    "\n",
    "for i in range(1, 1001):\n",
    "    recall = valida_algoritmo_simples(empresa1['id'], mercado_todas.loc[:, variaveis], 20)\n",
    "    empresa1_t4.append(recall)"
   ]
  },
  {
   "cell_type": "code",
   "execution_count": 25,
   "metadata": {},
   "outputs": [
    {
     "name": "stdout",
     "output_type": "stream",
     "text": [
      "O valor estimado do Recall@20 é  0.2048\n"
     ]
    }
   ],
   "source": [
    "# média\n",
    "print('O valor estimado do Recall@20 é ', s.mean(empresa1_t4))"
   ]
  },
  {
   "cell_type": "markdown",
   "metadata": {},
   "source": [
    "Empresa 2:"
   ]
  },
  {
   "cell_type": "code",
   "execution_count": 26,
   "metadata": {},
   "outputs": [],
   "source": [
    "# cria a repetição da validação no top 10\n",
    "empresa2_t3 = list()\n",
    "\n",
    "for i in range(1, 1001):\n",
    "    recall = valida_algoritmo_simples(empresa2['id'], mercado_todas.loc[:, variaveis], 10)\n",
    "    empresa2_t3.append(recall)"
   ]
  },
  {
   "cell_type": "code",
   "execution_count": 27,
   "metadata": {},
   "outputs": [
    {
     "name": "stdout",
     "output_type": "stream",
     "text": [
      "O valor estimado do Recall@10 é  0.7219\n"
     ]
    }
   ],
   "source": [
    "# média\n",
    "print('O valor estimado do Recall@10 é ', s.mean(empresa2_t3))"
   ]
  },
  {
   "cell_type": "code",
   "execution_count": 28,
   "metadata": {},
   "outputs": [],
   "source": [
    "# cria a repetição da validação no top 20\n",
    "empresa2_t4 = list()\n",
    "\n",
    "for i in range(1, 1001):\n",
    "    recall = valida_algoritmo_simples(empresa2['id'], mercado_todas.loc[:, variaveis], 20)\n",
    "    empresa2_t4.append(recall)"
   ]
  },
  {
   "cell_type": "code",
   "execution_count": 29,
   "metadata": {},
   "outputs": [
    {
     "name": "stdout",
     "output_type": "stream",
     "text": [
      "O valor estimado do Recall@20 é  0.50425\n"
     ]
    }
   ],
   "source": [
    "# média\n",
    "print('O valor estimado do Recall@20 é ', s.mean(empresa2_t4))"
   ]
  },
  {
   "cell_type": "markdown",
   "metadata": {},
   "source": [
    "Empresa 3:"
   ]
  },
  {
   "cell_type": "code",
   "execution_count": 30,
   "metadata": {},
   "outputs": [],
   "source": [
    "# cria a repetição da validação no top 10\n",
    "empresa3_t3 = list()\n",
    "\n",
    "for i in range(1, 1001):\n",
    "    recall = valida_algoritmo_simples(empresa3['id'], mercado_todas.loc[:, variaveis], 10)\n",
    "    empresa3_t3.append(recall)"
   ]
  },
  {
   "cell_type": "code",
   "execution_count": 31,
   "metadata": {},
   "outputs": [
    {
     "name": "stdout",
     "output_type": "stream",
     "text": [
      "O valor estimado do Recall@10 é  0.6471\n"
     ]
    }
   ],
   "source": [
    "# média\n",
    "print('O valor estimado do Recall@10 é ', s.mean(empresa3_t3))"
   ]
  },
  {
   "cell_type": "code",
   "execution_count": 32,
   "metadata": {},
   "outputs": [],
   "source": [
    "# cria a repetição da validação no top 20\n",
    "empresa3_t4 = list()\n",
    "\n",
    "for i in range(1, 1001):\n",
    "    recall = valida_algoritmo_simples(empresa3['id'], mercado_todas.loc[:, variaveis], 20)\n",
    "    empresa3_t4.append(recall)"
   ]
  },
  {
   "cell_type": "code",
   "execution_count": 33,
   "metadata": {},
   "outputs": [
    {
     "name": "stdout",
     "output_type": "stream",
     "text": [
      "O valor estimado do Recall@20 é  0.46140000000000003\n"
     ]
    }
   ],
   "source": [
    "# média\n",
    "print('O valor estimado do Recall@20 é ', s.mean(empresa3_t4))"
   ]
  },
  {
   "cell_type": "markdown",
   "metadata": {},
   "source": [
    "Para a empresa 1 o resultado foi levemente maior. Para as outras duas empresas o resultado foi pior."
   ]
  },
  {
   "cell_type": "markdown",
   "metadata": {},
   "source": [
    "Por fim, vou fazer a validação para a versão 3 do algoritmo que utiliza clusters."
   ]
  },
  {
   "cell_type": "code",
   "execution_count": 37,
   "metadata": {},
   "outputs": [],
   "source": [
    "def cluster(data, n_clusters):\n",
    "    clstr = KMeans(n_clusters=n_clusters)\n",
    "    resultado = clstr.fit(data)\n",
    "    return resultado\n",
    "\n",
    "def valida_algoritmo_clusters(portfolio, mercado, n):\n",
    "    \n",
    "    ## seleciona 10% do portfolio\n",
    "    tam = round(0.1*len(portfolio))\n",
    "    teste = list(portfolio.sample(tam))\n",
    "    portfolio = list(portfolio)\n",
    "    treino = list(set(portfolio) - set(teste))\n",
    "    \n",
    "    ## aplica o algoritmo usando a base de treino\n",
    "    # calcula os centroides dos clusters de clientes\n",
    "    atr_clientes = mercado.loc[mercado['id'].isin(treino), :]\n",
    "    ajuste_clusters = cluster(atr_clientes.iloc[:, 1:], 25) # a primeira linha é o ID\n",
    "    centro_clusters = ajuste_clusters.cluster_centers_\n",
    "    \n",
    "    # separa possíveis clientes\n",
    "    tam_resto = round(tam/0.1) - tam\n",
    "    nao_clientes = mercado.loc[~mercado['id'].isin(treino), :]\n",
    "    resto = list(nao_clientes['id'].sample(tam_resto))\n",
    "    ids_possivel = teste + resto\n",
    "    mercado_possivel = mercado.loc[mercado['id'].isin(ids_possivel), :]\n",
    "    \n",
    "    # calcula a similaridade com cada centroide de cluster\n",
    "    distancia = pd.DataFrame({'id': mercado_possivel['id']})\n",
    "\n",
    "    for i in range(0, 25):\n",
    "        distancia[i + 1] = euclidian(mercado_possivel.iloc[:, 1:], centro_clusters[i, :])\n",
    "        \n",
    "    # calcula o tamanho de cada cluster\n",
    "    clusters_clientes = ajuste_clusters.predict(atr_clientes.iloc[:, 1:])\n",
    "    tam_clusters = pd.Series(clusters_clientes).value_counts()\n",
    "\n",
    "    # calcula o fator multiplicador para cada cluster\n",
    "    p = len(treino) / 25\n",
    "    fator_clusters = p / tam_clusters\n",
    "    \n",
    "    # multiplica as distâncias pelo fator\n",
    "    for i in range(0, 25):\n",
    "        distancia[i + 1] = distancia[i + 1] * fator_clusters[i]\n",
    "    \n",
    "    # calcula a distância final\n",
    "    distancia['dist'] = distancia.iloc[:, 1:].apply(lambda row: min(row), axis=1)\n",
    "\n",
    "    # ordena o dataset pelas distâncias\n",
    "    distancia.sort_values(by='dist', inplace=True)\n",
    "    \n",
    "    # separa o top N\n",
    "    top_n = distancia.iloc[0:n, 0].reset_index(drop=True)\n",
    "    \n",
    "    # verifica quantos do top N são verdadeiros clientes\n",
    "    clientes_reais = len(top_n[top_n.isin(teste)])\n",
    "    \n",
    "    # calcula o recall\n",
    "    recall = clientes_reais/n\n",
    "    \n",
    "    return recall"
   ]
  },
  {
   "cell_type": "markdown",
   "metadata": {},
   "source": [
    "Empresa 1:"
   ]
  },
  {
   "cell_type": "code",
   "execution_count": 38,
   "metadata": {},
   "outputs": [],
   "source": [
    "# cria a repetição da validação no top 10\n",
    "empresa1_t5 = list()\n",
    "\n",
    "for i in range(1, 1001):\n",
    "    recall = valida_algoritmo_clusters(empresa1['id'], mercado_todas.loc[:, variaveis], 10)\n",
    "    empresa1_t5.append(recall)"
   ]
  },
  {
   "cell_type": "code",
   "execution_count": 39,
   "metadata": {},
   "outputs": [
    {
     "name": "stdout",
     "output_type": "stream",
     "text": [
      "O valor estimado do Recall@10 é  0.1837\n"
     ]
    }
   ],
   "source": [
    "# média\n",
    "print('O valor estimado do Recall@10 é ', s.mean(empresa1_t5))"
   ]
  },
  {
   "cell_type": "code",
   "execution_count": 40,
   "metadata": {},
   "outputs": [],
   "source": [
    "# cria a repetição da validação no top 20\n",
    "empresa1_t6 = list()\n",
    "\n",
    "for i in range(1, 1001):\n",
    "    recall = valida_algoritmo_clusters(empresa1['id'], mercado_todas.loc[:, variaveis], 20)\n",
    "    empresa1_t6.append(recall)"
   ]
  },
  {
   "cell_type": "code",
   "execution_count": 42,
   "metadata": {},
   "outputs": [
    {
     "name": "stdout",
     "output_type": "stream",
     "text": [
      "O valor estimado do Recall@20 é  0.1798\n"
     ]
    }
   ],
   "source": [
    "# média\n",
    "print('O valor estimado do Recall@20 é ', s.mean(empresa1_t6))"
   ]
  },
  {
   "cell_type": "markdown",
   "metadata": {},
   "source": [
    "Empresa 2:"
   ]
  },
  {
   "cell_type": "code",
   "execution_count": 43,
   "metadata": {},
   "outputs": [],
   "source": [
    "# cria a repetição da validação no top 10\n",
    "empresa2_t5 = list()\n",
    "\n",
    "for i in range(1, 1001):\n",
    "    recall = valida_algoritmo_clusters(empresa2['id'], mercado_todas.loc[:, variaveis], 10)\n",
    "    empresa2_t5.append(recall)"
   ]
  },
  {
   "cell_type": "code",
   "execution_count": 44,
   "metadata": {},
   "outputs": [
    {
     "name": "stdout",
     "output_type": "stream",
     "text": [
      "O valor estimado do Recall@10 é  0.8140000000000001\n"
     ]
    }
   ],
   "source": [
    "# média\n",
    "print('O valor estimado do Recall@10 é ', s.mean(empresa2_t5))"
   ]
  },
  {
   "cell_type": "code",
   "execution_count": 45,
   "metadata": {},
   "outputs": [],
   "source": [
    "# cria a repetição da validação no top 20\n",
    "empresa2_t6 = list()\n",
    "\n",
    "for i in range(1, 1001):\n",
    "    recall = valida_algoritmo_clusters(empresa2['id'], mercado_todas.loc[:, variaveis], 20)\n",
    "    empresa2_t6.append(recall)"
   ]
  },
  {
   "cell_type": "code",
   "execution_count": 46,
   "metadata": {},
   "outputs": [
    {
     "name": "stdout",
     "output_type": "stream",
     "text": [
      "O valor estimado do Recall@20 é  0.61635\n"
     ]
    }
   ],
   "source": [
    "# média\n",
    "print('O valor estimado do Recall@20 é ', s.mean(empresa2_t6))"
   ]
  },
  {
   "cell_type": "markdown",
   "metadata": {},
   "source": [
    "Empresa 3:"
   ]
  },
  {
   "cell_type": "code",
   "execution_count": 47,
   "metadata": {},
   "outputs": [],
   "source": [
    "# cria a repetição da validação no top 10\n",
    "empresa3_t5 = list()\n",
    "\n",
    "for i in range(1, 1001):\n",
    "    recall = valida_algoritmo_clusters(empresa3['id'], mercado_todas.loc[:, variaveis], 10)\n",
    "    empresa3_t5.append(recall)"
   ]
  },
  {
   "cell_type": "code",
   "execution_count": 48,
   "metadata": {},
   "outputs": [
    {
     "name": "stdout",
     "output_type": "stream",
     "text": [
      "O valor estimado do Recall@10 é  0.9502\n"
     ]
    }
   ],
   "source": [
    "# média\n",
    "print('O valor estimado do Recall@10 é ', s.mean(empresa3_t5))"
   ]
  },
  {
   "cell_type": "code",
   "execution_count": 49,
   "metadata": {},
   "outputs": [],
   "source": [
    "# cria a repetição da validação no top 20\n",
    "empresa3_t6 = list()\n",
    "\n",
    "for i in range(1, 1001):\n",
    "    recall = valida_algoritmo_clusters(empresa3['id'], mercado_todas.loc[:, variaveis], 20)\n",
    "    empresa3_t6.append(recall)"
   ]
  },
  {
   "cell_type": "code",
   "execution_count": 50,
   "metadata": {},
   "outputs": [
    {
     "name": "stdout",
     "output_type": "stream",
     "text": [
      "O valor estimado do Recall@20 é  0.6824\n"
     ]
    }
   ],
   "source": [
    "# média\n",
    "print('O valor estimado do Recall@20 é ', s.mean(empresa3_t6))"
   ]
  },
  {
   "cell_type": "markdown",
   "metadata": {},
   "source": [
    "A versão 3 do algoritmo teve resultados bons, principalmente no Top 10."
   ]
  }
 ],
 "metadata": {
  "kernelspec": {
   "display_name": "Python 3",
   "language": "python",
   "name": "python3"
  },
  "language_info": {
   "codemirror_mode": {
    "name": "ipython",
    "version": 3
   },
   "file_extension": ".py",
   "mimetype": "text/x-python",
   "name": "python",
   "nbconvert_exporter": "python",
   "pygments_lexer": "ipython3",
   "version": "3.7.6"
  }
 },
 "nbformat": 4,
 "nbformat_minor": 4
}
